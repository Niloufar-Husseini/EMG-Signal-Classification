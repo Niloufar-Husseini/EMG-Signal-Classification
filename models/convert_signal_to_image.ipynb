{
  "cells": [
    {
      "cell_type": "code",
      "execution_count": 1,
      "metadata": {
        "id": "lpAv0OkPPvxd"
      },
      "outputs": [],
      "source": [
        "import torch\n",
        "import torch.nn as nn\n",
        "import torchvision\n",
        "from torchvision import datasets, transforms, models\n",
        "import numpy as np\n",
        "import matplotlib.pyplot as plt\n",
        "from datetime import datetime\n",
        "import sys, os\n",
        "from glob import glob\n",
        "import imageio\n",
        "import pandas as pd"
      ]
    },
    {
      "cell_type": "code",
      "execution_count": 2,
      "metadata": {
        "colab": {
          "base_uri": "https://localhost:8080/"
        },
        "id": "kA9c6FV-P5Dm",
        "outputId": "66fb46ff-adde-4c6e-a340-15bd457abf26"
      },
      "outputs": [
        {
          "name": "stdout",
          "output_type": "stream",
          "text": [
            "--2023-05-03 09:56:01--  https://archive.ics.uci.edu/ml/machine-learning-databases/00278/SEMG_DB1.rar\n",
            "Resolving archive.ics.uci.edu (archive.ics.uci.edu)... 128.195.10.252\n",
            "Connecting to archive.ics.uci.edu (archive.ics.uci.edu)|128.195.10.252|:443... connected.\n",
            "HTTP request sent, awaiting response... 200 OK\n",
            "Length: 14440981 (14M) [application/x-httpd-php]\n",
            "Saving to: ‘SEMG_DB1.rar’\n",
            "\n",
            "SEMG_DB1.rar        100%[===================>]  13.77M  7.33MB/s    in 1.9s    \n",
            "\n",
            "2023-05-03 09:56:03 (7.33 MB/s) - ‘SEMG_DB1.rar’ saved [14440981/14440981]\n",
            "\n"
          ]
        }
      ],
      "source": [
        "!wget -nc https://archive.ics.uci.edu/ml/machine-learning-databases/00278/SEMG_DB1.rar"
      ]
    },
    {
      "cell_type": "code",
      "execution_count": 3,
      "metadata": {
        "colab": {
          "base_uri": "https://localhost:8080/"
        },
        "id": "MvrkmqMJQS_x",
        "outputId": "deabb868-2c1c-4993-f50b-85a365c5da56"
      },
      "outputs": [
        {
          "name": "stdout",
          "output_type": "stream",
          "text": [
            "\n",
            "UNRAR 5.61 beta 1 freeware      Copyright (c) 1993-2018 Alexander Roshal\n",
            "\n",
            "\n",
            "Extracting from SEMG_DB1.rar\n",
            "\n",
            "Extracting  10Amar.log                                                   \b\b\b\b  0%\b\b\b\b\b  OK \n",
            "Extracting  10Apie.log                                                   \b\b\b\b  0%\b\b\b\b  1%\b\b\b\b\b  OK \n",
            "Extracting  10Asen.log                                                   \b\b\b\b  1%\b\b\b\b\b  OK \n",
            "Extracting  11Amar.log                                                   \b\b\b\b  1%\b\b\b\b  2%\b\b\b\b\b  OK \n",
            "Extracting  11Apie.log                                                   \b\b\b\b  2%\b\b\b\b\b  OK \n",
            "Extracting  11Asen.log                                                   \b\b\b\b  3%\b\b\b\b\b  OK \n",
            "Extracting  1Amar.log                                                    \b\b\b\b  3%\b\b\b\b\b  OK \n",
            "Extracting  1Apie.log                                                    \b\b\b\b  4%\b\b\b\b\b  OK \n",
            "Extracting  1Asen.log                                                    \b\b\b\b  4%\b\b\b\b\b  OK \n",
            "Extracting  2Amar.log                                                    \b\b\b\b  4%\b\b\b\b\b  OK \n",
            "Extracting  2Apie.log                                                    \b\b\b\b  5%\b\b\b\b\b  OK \n",
            "Extracting  2Asen.log                                                    \b\b\b\b  5%\b\b\b\b\b  OK \n",
            "Extracting  3Amar.log                                                    \b\b\b\b  5%\b\b\b\b  6%\b\b\b\b\b  OK \n",
            "Extracting  3Apie.log                                                    \b\b\b\b  7%\b\b\b\b\b  OK \n",
            "Extracting  3Asen.log                                                    \b\b\b\b  7%\b\b\b\b  8%\b\b\b\b\b  OK \n",
            "Extracting  4Amar.log                                                    \b\b\b\b  8%\b\b\b\b  9%\b\b\b\b\b  OK \n",
            "Extracting  4Apie.log                                                    \b\b\b\b 10%\b\b\b\b 11%\b\b\b\b\b  OK \n",
            "Extracting  4Asen.log                                                    \b\b\b\b 11%\b\b\b\b\b  OK \n",
            "Extracting  5Amar.log                                                    \b\b\b\b 12%\b\b\b\b 13%\b\b\b\b\b  OK \n",
            "Extracting  5Apie.log                                                    \b\b\b\b 13%\b\b\b\b\b  OK \n",
            "Extracting  5Asen.log                                                    \b\b\b\b 13%\b\b\b\b 14%\b\b\b\b\b  OK \n",
            "Extracting  6Amar.log                                                    \b\b\b\b 14%\b\b\b\b 15%\b\b\b\b\b  OK \n",
            "Extracting  6Apie.log                                                    \b\b\b\b 16%\b\b\b\b 17%\b\b\b\b\b  OK \n",
            "Extracting  6Asen.log                                                    \b\b\b\b 17%\b\b\b\b 18%\b\b\b\b 19%\b\b\b\b\b  OK \n",
            "Extracting  7Amar.log                                                    \b\b\b\b 19%\b\b\b\b\b  OK \n",
            "Extracting  7Apie.log                                                    \b\b\b\b 19%\b\b\b\b 20%\b\b\b\b\b  OK \n",
            "Extracting  7Asen.log                                                    \b\b\b\b 20%\b\b\b\b\b  OK \n",
            "Extracting  8Amar.log                                                    \b\b\b\b 20%\b\b\b\b\b  OK \n",
            "Extracting  8Apie.log                                                    \b\b\b\b 21%\b\b\b\b\b  OK \n",
            "Extracting  8Asen.log                                                    \b\b\b\b 21%\b\b\b\b\b  OK \n",
            "Extracting  9Amar.log                                                    \b\b\b\b 21%\b\b\b\b 22%\b\b\b\b\b  OK \n",
            "Extracting  9Apie.log                                                    \b\b\b\b 22%\b\b\b\b 23%\b\b\b\b\b  OK \n",
            "Extracting  9Asen.log                                                    \b\b\b\b 23%\b\b\b\b\b  OK \n",
            "Extracting  10Amar.txt                                                   \b\b\b\b 23%\b\b\b\b 24%\b\b\b\b\b  OK \n",
            "Extracting  10Apie.txt                                                   \b\b\b\b 24%\b\b\b\b 25%\b\b\b\b\b  OK \n",
            "Extracting  10Asen.txt                                                   \b\b\b\b 25%\b\b\b\b 26%\b\b\b\b\b  OK \n",
            "Extracting  11Amar.txt                                                   \b\b\b\b 26%\b\b\b\b 27%\b\b\b\b\b  OK \n",
            "Extracting  11Apie.txt                                                   \b\b\b\b 27%\b\b\b\b 28%\b\b\b\b\b  OK \n",
            "Extracting  11Asen.txt                                                   \b\b\b\b 28%\b\b\b\b 29%\b\b\b\b\b  OK \n",
            "Extracting  1Amar.txt                                                    \b\b\b\b 30%\b\b\b\b\b  OK \n",
            "Extracting  1Apie.txt                                                    \b\b\b\b 30%\b\b\b\b 31%\b\b\b\b\b  OK \n",
            "Extracting  1Asen.txt                                                    \b\b\b\b 31%\b\b\b\b\b  OK \n",
            "Extracting  2Amar.txt                                                    \b\b\b\b 32%\b\b\b\b\b  OK \n",
            "Extracting  2Apie.txt                                                    \b\b\b\b 32%\b\b\b\b 33%\b\b\b\b\b  OK \n",
            "Extracting  2Asen.txt                                                    \b\b\b\b 33%\b\b\b\b\b  OK \n",
            "Extracting  3Amar.txt                                                    \b\b\b\b 34%\b\b\b\b 35%\b\b\b\b 36%\b\b\b\b\b  OK \n",
            "Extracting  3Apie.txt                                                    \b\b\b\b 36%\b\b\b\b 37%\b\b\b\b\b  OK \n",
            "Extracting  3Asen.txt                                                    \b\b\b\b 37%\b\b\b\b 38%\b\b\b\b\b  OK \n",
            "Extracting  4Amar.txt                                                    \b\b\b\b 38%\b\b\b\b 39%\b\b\b\b 40%\b\b\b\b 41%\b\b\b\b\b  OK \n",
            "Extracting  4Apie.txt                                                    \b\b\b\b 42%\b\b\b\b 43%\b\b\b\b\b  OK \n",
            "Extracting  4Asen.txt                                                    \b\b\b\b 43%\b\b\b\b 44%\b\b\b\b 45%\b\b\b\b\b  OK \n",
            "Extracting  5Amar.txt                                                    \b\b\b\b 45%\b\b\b\b 46%\b\b\b\b 47%\b\b\b\b\b  OK \n",
            "Extracting  5Apie.txt                                                    \b\b\b\b 47%\b\b\b\b 48%\b\b\b\b\b  OK \n",
            "Extracting  5Asen.txt                                                    \b\b\b\b 48%\b\b\b\b 49%\b\b\b\b\b  OK \n",
            "Extracting  6Amar.txt                                                    \b\b\b\b 49%\b\b\b\b 50%\b\b\b\b 51%\b\b\b\b 52%\b\b\b\b\b  OK \n",
            "Extracting  6Apie.txt                                                    \b\b\b\b 52%\b\b\b\b 53%\b\b\b\b 54%\b\b\b\b\b  OK \n",
            "Extracting  6Asen.txt                                                    \b\b\b\b 55%\b\b\b\b 56%\b\b\b\b 57%\b\b\b\b 58%\b\b\b\b\b  OK \n",
            "Extracting  7Amar.txt                                                    \b\b\b\b 58%\b\b\b\b 59%\b\b\b\b\b  OK \n",
            "Extracting  7Apie.txt                                                    \b\b\b\b 59%\b\b\b\b 60%\b\b\b\b\b  OK \n",
            "Extracting  7Asen.txt                                                    \b\b\b\b 60%\b\b\b\b\b  OK \n",
            "Extracting  8Amar.txt                                                    \b\b\b\b 61%\b\b\b\b\b  OK \n",
            "Extracting  8Apie.txt                                                    \b\b\b\b 61%\b\b\b\b 62%\b\b\b\b\b  OK \n",
            "Extracting  8Asen.txt                                                    \b\b\b\b 62%\b\b\b\b\b  OK \n",
            "Extracting  9Amar.txt                                                    \b\b\b\b 63%\b\b\b\b 64%\b\b\b\b\b  OK \n",
            "Extracting  9Apie.txt                                                    \b\b\b\b 64%\b\b\b\b 65%\b\b\b\b\b  OK \n",
            "Extracting  9Asen.txt                                                    \b\b\b\b 65%\b\b\b\b 66%\b\b\b\b\b  OK \n",
            "Extracting  10Nmar.log                                                   \b\b\b\b 66%\b\b\b\b\b  OK \n",
            "Extracting  10Npie.log                                                   \b\b\b\b 66%\b\b\b\b 67%\b\b\b\b\b  OK \n",
            "Extracting  10Nsen.log                                                   \b\b\b\b 67%\b\b\b\b\b  OK \n",
            "Extracting  11Nmar.log                                                   \b\b\b\b 68%\b\b\b\b\b  OK \n",
            "Extracting  11Npie.log                                                   \b\b\b\b 68%\b\b\b\b\b  OK \n",
            "Extracting  11Nsen.log                                                   \b\b\b\b 68%\b\b\b\b\b  OK \n",
            "Extracting  1Nmar.log                                                    \b\b\b\b 68%\b\b\b\b\b  OK \n",
            "Extracting  1Npie.log                                                    \b\b\b\b 69%\b\b\b\b\b  OK \n",
            "Extracting  1Nsen.log                                                    \b\b\b\b 69%\b\b\b\b\b  OK \n",
            "Extracting  2Nmar.log                                                    \b\b\b\b 69%\b\b\b\b\b  OK \n",
            "Extracting  2Npie.log                                                    \b\b\b\b 70%\b\b\b\b\b  OK \n",
            "Extracting  2Nsen.log                                                    \b\b\b\b 70%\b\b\b\b\b  OK \n",
            "Extracting  3Nmar.log                                                    \b\b\b\b 70%\b\b\b\b\b  OK \n",
            "Extracting  3Npie.log                                                    \b\b\b\b 70%\b\b\b\b\b  OK \n",
            "Extracting  3Nsen.log                                                    \b\b\b\b 71%\b\b\b\b\b  OK \n",
            "Extracting  4Nmar.log                                                    \b\b\b\b 71%\b\b\b\b\b  OK \n",
            "Extracting  4Npie.log                                                    \b\b\b\b 71%\b\b\b\b\b  OK \n",
            "Extracting  4Nsen.log                                                    \b\b\b\b 71%\b\b\b\b 72%\b\b\b\b\b  OK \n",
            "Extracting  5Nmar.log                                                    \b\b\b\b 72%\b\b\b\b\b  OK \n",
            "Extracting  5Npie.log                                                    \b\b\b\b 72%\b\b\b\b\b  OK \n",
            "Extracting  5Nsen.log                                                    \b\b\b\b 72%\b\b\b\b\b  OK \n",
            "Extracting  6Nmar.log                                                    \b\b\b\b 73%\b\b\b\b\b  OK \n",
            "Extracting  6Npie.log                                                    \b\b\b\b 73%\b\b\b\b\b  OK \n",
            "Extracting  6Nsen.log                                                    \b\b\b\b 73%\b\b\b\b\b  OK \n",
            "Extracting  7Nmar.log                                                    \b\b\b\b 74%\b\b\b\b\b  OK \n",
            "Extracting  7Npie.log                                                    \b\b\b\b 74%\b\b\b\b\b  OK \n",
            "Extracting  7Nsen.log                                                    \b\b\b\b 74%\b\b\b\b\b  OK \n",
            "Extracting  8Nmar.log                                                    \b\b\b\b 75%\b\b\b\b\b  OK \n",
            "Extracting  8Npie.log                                                    \b\b\b\b 75%\b\b\b\b\b  OK \n",
            "Extracting  8Nsen.log                                                    \b\b\b\b 75%\b\b\b\b 76%\b\b\b\b\b  OK \n",
            "Extracting  9Nmar.log                                                    \b\b\b\b 76%\b\b\b\b\b  OK \n",
            "Extracting  9Npie.log                                                    \b\b\b\b 76%\b\b\b\b\b  OK \n",
            "Extracting  9Nsen.log                                                    \b\b\b\b 76%\b\b\b\b 77%\b\b\b\b\b  OK \n",
            "Extracting  10Nmar.txt                                                   \b\b\b\b 77%\b\b\b\b\b  OK \n",
            "Extracting  10Npie.txt                                                   \b\b\b\b 77%\b\b\b\b 78%\b\b\b\b 79%\b\b\b\b\b  OK \n",
            "Extracting  10Nsen.txt                                                   \b\b\b\b 79%\b\b\b\b 80%\b\b\b\b\b  OK \n",
            "Extracting  11Nmar.txt                                                   \b\b\b\b 80%\b\b\b\b\b  OK \n",
            "Extracting  11Npie.txt                                                   \b\b\b\b 81%\b\b\b\b\b  OK \n",
            "Extracting  11Nsen.txt                                                   \b\b\b\b 81%\b\b\b\b 82%\b\b\b\b\b  OK \n",
            "Extracting  1Nmar.txt                                                    \b\b\b\b 82%\b\b\b\b\b  OK \n",
            "Extracting  1Npie.txt                                                    \b\b\b\b 82%\b\b\b\b 83%\b\b\b\b\b  OK \n",
            "Extracting  1Nsen.txt                                                    \b\b\b\b 83%\b\b\b\b\b  OK \n",
            "Extracting  2Nmar.txt                                                    \b\b\b\b 84%\b\b\b\b\b  OK \n",
            "Extracting  2Npie.txt                                                    \b\b\b\b 84%\b\b\b\b 85%\b\b\b\b\b  OK \n",
            "Extracting  2Nsen.txt                                                    \b\b\b\b 85%\b\b\b\b\b  OK \n",
            "Extracting  3Nmar.txt                                                    \b\b\b\b 85%\b\b\b\b 86%\b\b\b\b\b  OK \n",
            "Extracting  3Npie.txt                                                    \b\b\b\b 86%\b\b\b\b\b  OK \n",
            "Extracting  3Nsen.txt                                                    \b\b\b\b 86%\b\b\b\b 87%\b\b\b\b\b  OK \n",
            "Extracting  4Nmar.txt                                                    \b\b\b\b 87%\b\b\b\b\b  OK \n",
            "Extracting  4Npie.txt                                                    \b\b\b\b 87%\b\b\b\b 88%\b\b\b\b\b  OK \n",
            "Extracting  4Nsen.txt                                                    \b\b\b\b 88%\b\b\b\b\b  OK \n",
            "Extracting  5Nmar.txt                                                    \b\b\b\b 89%\b\b\b\b\b  OK \n",
            "Extracting  5Npie.txt                                                    \b\b\b\b 89%\b\b\b\b 90%\b\b\b\b\b  OK \n",
            "Extracting  5Nsen.txt                                                    \b\b\b\b 90%\b\b\b\b\b  OK \n",
            "Extracting  6Nmar.txt                                                    \b\b\b\b 90%\b\b\b\b 91%\b\b\b\b\b  OK \n",
            "Extracting  6Npie.txt                                                    \b\b\b\b 91%\b\b\b\b\b  OK \n",
            "Extracting  6Nsen.txt                                                    \b\b\b\b 92%\b\b\b\b\b  OK \n",
            "Extracting  7Nmar.txt                                                    \b\b\b\b 92%\b\b\b\b 93%\b\b\b\b\b  OK \n",
            "Extracting  7Npie.txt                                                    \b\b\b\b 93%\b\b\b\b\b  OK \n",
            "Extracting  7Nsen.txt                                                    \b\b\b\b 94%\b\b\b\b 95%\b\b\b\b\b  OK \n",
            "Extracting  8Nmar.txt                                                    \b\b\b\b 95%\b\b\b\b\b  OK \n",
            "Extracting  8Npie.txt                                                    \b\b\b\b 95%\b\b\b\b 96%\b\b\b\b\b  OK \n",
            "Extracting  8Nsen.txt                                                    \b\b\b\b 96%\b\b\b\b 97%\b\b\b\b\b  OK \n",
            "Extracting  9Nmar.txt                                                    \b\b\b\b 97%\b\b\b\b\b  OK \n",
            "Extracting  9Npie.txt                                                    \b\b\b\b 98%\b\b\b\b\b  OK \n",
            "Extracting  9Nsen.txt                                                    \b\b\b\b 99%\b\b\b\b\b  OK \n",
            "Extracting  Base de datos EMG SP (spanish).docx                          \b\b\b\b 99%\b\b\b\b\b  OK \n",
            "Extracting  Base de datos EMG US (english).docx                          \b\b\b\b 99%\b\b\b\b\b  OK \n",
            "Extracting  BDSEMG_eng.txt                                               \b\b\b\b 99%\b\b\b\b\b  OK \n",
            "All OK\n"
          ]
        }
      ],
      "source": [
        "!unrar e  SEMG_DB1.rar"
      ]
    },
    {
      "cell_type": "code",
      "execution_count": 4,
      "metadata": {
        "id": "bl1unw63VrLx"
      },
      "outputs": [],
      "source": [
        "!mkdir data"
      ]
    },
    {
      "cell_type": "code",
      "execution_count": 5,
      "metadata": {
        "id": "qP7Uk89qWDVz"
      },
      "outputs": [],
      "source": [
        "!mkdir data/A\n",
        "!mkdir data/N"
      ]
    },
    {
      "cell_type": "code",
      "execution_count": 6,
      "metadata": {
        "id": "kQXMOOd4WPpM"
      },
      "outputs": [],
      "source": [
        "!mv [1-9]A*.txt data/A\n",
        "!mv [1-9]N*.txt data/N"
      ]
    },
    {
      "cell_type": "code",
      "execution_count": 7,
      "metadata": {
        "id": "t0pmcEMlXMgM"
      },
      "outputs": [],
      "source": [
        "!mv 1[0-9]A*.txt data/A\n",
        "!mv 1[0-9]N*.txt data/N"
      ]
    },
    {
      "cell_type": "code",
      "execution_count": 8,
      "metadata": {
        "colab": {
          "base_uri": "https://localhost:8080/"
        },
        "id": "bRt0Bdv1Xj2T",
        "outputId": "1d543e82-259f-478c-82f3-0f2d95114709"
      },
      "outputs": [
        {
          "name": "stdout",
          "output_type": "stream",
          "text": [
            "10Amar.txt  11Asen.txt\t2Apie.txt  4Amar.txt  5Asen.txt  7Apie.txt  9Amar.txt\n",
            "10Apie.txt  1Amar.txt\t2Asen.txt  4Apie.txt  6Amar.txt  7Asen.txt  9Apie.txt\n",
            "10Asen.txt  1Apie.txt\t3Amar.txt  4Asen.txt  6Apie.txt  8Amar.txt  9Asen.txt\n",
            "11Amar.txt  1Asen.txt\t3Apie.txt  5Amar.txt  6Asen.txt  8Apie.txt\n",
            "11Apie.txt  2Amar.txt\t3Asen.txt  5Apie.txt  7Amar.txt  8Asen.txt\n"
          ]
        }
      ],
      "source": [
        "!ls data/A"
      ]
    },
    {
      "cell_type": "code",
      "execution_count": 9,
      "metadata": {
        "colab": {
          "base_uri": "https://localhost:8080/"
        },
        "id": "y2sW4aL4Xk1S",
        "outputId": "5050cad0-e5cb-40ab-f81f-4e1f383bd6af"
      },
      "outputs": [
        {
          "name": "stdout",
          "output_type": "stream",
          "text": [
            "10Nmar.txt  11Nsen.txt\t2Npie.txt  4Nmar.txt  5Nsen.txt  7Npie.txt  9Nmar.txt\n",
            "10Npie.txt  1Nmar.txt\t2Nsen.txt  4Npie.txt  6Nmar.txt  7Nsen.txt  9Npie.txt\n",
            "10Nsen.txt  1Npie.txt\t3Nmar.txt  4Nsen.txt  6Npie.txt  8Nmar.txt  9Nsen.txt\n",
            "11Nmar.txt  1Nsen.txt\t3Npie.txt  5Nmar.txt  6Nsen.txt  8Npie.txt\n",
            "11Npie.txt  2Nmar.txt\t3Nsen.txt  5Npie.txt  7Nmar.txt  8Nsen.txt\n"
          ]
        }
      ],
      "source": [
        "!ls data/N"
      ]
    },
    {
      "cell_type": "code",
      "execution_count": 11,
      "metadata": {
        "id": "KMozL5n3nqC6"
      },
      "outputs": [],
      "source": [
        "def read_folder(path): \n",
        "  folder_con = []\n",
        "  file_name = []\n",
        "  n = 1\n",
        "  for file in os.listdir(path):\n",
        "      # Check whether file is in text format or not\n",
        "      if file.endswith(\".txt\"):\n",
        "          file_path = f\"{path}/{file}\"\n",
        "          folder_con.append(pd.read_csv(file_path, sep='\\t', skiprows=list(range(7)), header=None).dropna().drop())\n",
        "          file_name.append(file_path)\n",
        "          n = n + 1\n",
        "          \n",
        "  return folder_con, file_name"
      ]
    },
    {
      "cell_type": "code",
      "execution_count": 13,
      "metadata": {
        "id": "LZBrKdECpksh"
      },
      "outputs": [],
      "source": [
        "A_folder_con, A_name = read_folder('data/A')\n",
        "N_folder_con, N_name = read_folder('data/N')\n"
      ]
    },
    {
      "cell_type": "code",
      "execution_count": 15,
      "metadata": {
        "colab": {
          "base_uri": "https://localhost:8080/",
          "height": 423
        },
        "id": "igu14VAu1rf1",
        "outputId": "95de5655-c3e9-4a6d-dbb6-c9dd30295ad4"
      },
      "outputs": [
        {
          "data": {
            "text/html": [
              "\n",
              "  <div id=\"df-f2a39bc1-e10c-48a8-8350-5c5d2379bf97\">\n",
              "    <div class=\"colab-df-container\">\n",
              "      <div>\n",
              "<style scoped>\n",
              "    .dataframe tbody tr th:only-of-type {\n",
              "        vertical-align: middle;\n",
              "    }\n",
              "\n",
              "    .dataframe tbody tr th {\n",
              "        vertical-align: top;\n",
              "    }\n",
              "\n",
              "    .dataframe thead th {\n",
              "        text-align: right;\n",
              "    }\n",
              "</style>\n",
              "<table border=\"1\" class=\"dataframe\">\n",
              "  <thead>\n",
              "    <tr style=\"text-align: right;\">\n",
              "      <th></th>\n",
              "      <th>0</th>\n",
              "      <th>1</th>\n",
              "      <th>2</th>\n",
              "      <th>3</th>\n",
              "      <th>4</th>\n",
              "    </tr>\n",
              "  </thead>\n",
              "  <tbody>\n",
              "    <tr>\n",
              "      <th>0</th>\n",
              "      <td>-0.0150</td>\n",
              "      <td>-0.0023</td>\n",
              "      <td>0.0045</td>\n",
              "      <td>0.0292</td>\n",
              "      <td>11.4</td>\n",
              "    </tr>\n",
              "    <tr>\n",
              "      <th>1</th>\n",
              "      <td>-0.0113</td>\n",
              "      <td>0.0015</td>\n",
              "      <td>0.0067</td>\n",
              "      <td>-0.0346</td>\n",
              "      <td>9.9</td>\n",
              "    </tr>\n",
              "    <tr>\n",
              "      <th>2</th>\n",
              "      <td>-0.0165</td>\n",
              "      <td>0.0015</td>\n",
              "      <td>-0.0008</td>\n",
              "      <td>-0.0825</td>\n",
              "      <td>9.8</td>\n",
              "    </tr>\n",
              "    <tr>\n",
              "      <th>3</th>\n",
              "      <td>-0.0181</td>\n",
              "      <td>0.0007</td>\n",
              "      <td>-0.0053</td>\n",
              "      <td>-0.1140</td>\n",
              "      <td>9.3</td>\n",
              "    </tr>\n",
              "    <tr>\n",
              "      <th>4</th>\n",
              "      <td>-0.0143</td>\n",
              "      <td>-0.0068</td>\n",
              "      <td>-0.0083</td>\n",
              "      <td>-0.1373</td>\n",
              "      <td>8.9</td>\n",
              "    </tr>\n",
              "    <tr>\n",
              "      <th>...</th>\n",
              "      <td>...</td>\n",
              "      <td>...</td>\n",
              "      <td>...</td>\n",
              "      <td>...</td>\n",
              "      <td>...</td>\n",
              "    </tr>\n",
              "    <tr>\n",
              "      <th>15720</th>\n",
              "      <td>-0.0083</td>\n",
              "      <td>-0.0128</td>\n",
              "      <td>0.1125</td>\n",
              "      <td>0.0255</td>\n",
              "      <td>1.6</td>\n",
              "    </tr>\n",
              "    <tr>\n",
              "      <th>15721</th>\n",
              "      <td>-0.0046</td>\n",
              "      <td>-0.0098</td>\n",
              "      <td>0.1155</td>\n",
              "      <td>0.0097</td>\n",
              "      <td>1.5</td>\n",
              "    </tr>\n",
              "    <tr>\n",
              "      <th>15722</th>\n",
              "      <td>0.0007</td>\n",
              "      <td>-0.0038</td>\n",
              "      <td>0.1155</td>\n",
              "      <td>0.0097</td>\n",
              "      <td>1.5</td>\n",
              "    </tr>\n",
              "    <tr>\n",
              "      <th>15723</th>\n",
              "      <td>0.0007</td>\n",
              "      <td>0.0022</td>\n",
              "      <td>0.1125</td>\n",
              "      <td>0.0277</td>\n",
              "      <td>1.4</td>\n",
              "    </tr>\n",
              "    <tr>\n",
              "      <th>15724</th>\n",
              "      <td>-0.0030</td>\n",
              "      <td>0.0022</td>\n",
              "      <td>0.1125</td>\n",
              "      <td>0.0277</td>\n",
              "      <td>1.4</td>\n",
              "    </tr>\n",
              "  </tbody>\n",
              "</table>\n",
              "<p>15725 rows × 5 columns</p>\n",
              "</div>\n",
              "      <button class=\"colab-df-convert\" onclick=\"convertToInteractive('df-f2a39bc1-e10c-48a8-8350-5c5d2379bf97')\"\n",
              "              title=\"Convert this dataframe to an interactive table.\"\n",
              "              style=\"display:none;\">\n",
              "        \n",
              "  <svg xmlns=\"http://www.w3.org/2000/svg\" height=\"24px\"viewBox=\"0 0 24 24\"\n",
              "       width=\"24px\">\n",
              "    <path d=\"M0 0h24v24H0V0z\" fill=\"none\"/>\n",
              "    <path d=\"M18.56 5.44l.94 2.06.94-2.06 2.06-.94-2.06-.94-.94-2.06-.94 2.06-2.06.94zm-11 1L8.5 8.5l.94-2.06 2.06-.94-2.06-.94L8.5 2.5l-.94 2.06-2.06.94zm10 10l.94 2.06.94-2.06 2.06-.94-2.06-.94-.94-2.06-.94 2.06-2.06.94z\"/><path d=\"M17.41 7.96l-1.37-1.37c-.4-.4-.92-.59-1.43-.59-.52 0-1.04.2-1.43.59L10.3 9.45l-7.72 7.72c-.78.78-.78 2.05 0 2.83L4 21.41c.39.39.9.59 1.41.59.51 0 1.02-.2 1.41-.59l7.78-7.78 2.81-2.81c.8-.78.8-2.07 0-2.86zM5.41 20L4 18.59l7.72-7.72 1.47 1.35L5.41 20z\"/>\n",
              "  </svg>\n",
              "      </button>\n",
              "      \n",
              "  <style>\n",
              "    .colab-df-container {\n",
              "      display:flex;\n",
              "      flex-wrap:wrap;\n",
              "      gap: 12px;\n",
              "    }\n",
              "\n",
              "    .colab-df-convert {\n",
              "      background-color: #E8F0FE;\n",
              "      border: none;\n",
              "      border-radius: 50%;\n",
              "      cursor: pointer;\n",
              "      display: none;\n",
              "      fill: #1967D2;\n",
              "      height: 32px;\n",
              "      padding: 0 0 0 0;\n",
              "      width: 32px;\n",
              "    }\n",
              "\n",
              "    .colab-df-convert:hover {\n",
              "      background-color: #E2EBFA;\n",
              "      box-shadow: 0px 1px 2px rgba(60, 64, 67, 0.3), 0px 1px 3px 1px rgba(60, 64, 67, 0.15);\n",
              "      fill: #174EA6;\n",
              "    }\n",
              "\n",
              "    [theme=dark] .colab-df-convert {\n",
              "      background-color: #3B4455;\n",
              "      fill: #D2E3FC;\n",
              "    }\n",
              "\n",
              "    [theme=dark] .colab-df-convert:hover {\n",
              "      background-color: #434B5C;\n",
              "      box-shadow: 0px 1px 3px 1px rgba(0, 0, 0, 0.15);\n",
              "      filter: drop-shadow(0px 1px 2px rgba(0, 0, 0, 0.3));\n",
              "      fill: #FFFFFF;\n",
              "    }\n",
              "  </style>\n",
              "\n",
              "      <script>\n",
              "        const buttonEl =\n",
              "          document.querySelector('#df-f2a39bc1-e10c-48a8-8350-5c5d2379bf97 button.colab-df-convert');\n",
              "        buttonEl.style.display =\n",
              "          google.colab.kernel.accessAllowed ? 'block' : 'none';\n",
              "\n",
              "        async function convertToInteractive(key) {\n",
              "          const element = document.querySelector('#df-f2a39bc1-e10c-48a8-8350-5c5d2379bf97');\n",
              "          const dataTable =\n",
              "            await google.colab.kernel.invokeFunction('convertToInteractive',\n",
              "                                                     [key], {});\n",
              "          if (!dataTable) return;\n",
              "\n",
              "          const docLinkHtml = 'Like what you see? Visit the ' +\n",
              "            '<a target=\"_blank\" href=https://colab.research.google.com/notebooks/data_table.ipynb>data table notebook</a>'\n",
              "            + ' to learn more about interactive tables.';\n",
              "          element.innerHTML = '';\n",
              "          dataTable['output_type'] = 'display_data';\n",
              "          await google.colab.output.renderOutput(dataTable, element);\n",
              "          const docLink = document.createElement('div');\n",
              "          docLink.innerHTML = docLinkHtml;\n",
              "          element.appendChild(docLink);\n",
              "        }\n",
              "      </script>\n",
              "    </div>\n",
              "  </div>\n",
              "  "
            ],
            "text/plain": [
              "            0       1       2       3     4\n",
              "0     -0.0150 -0.0023  0.0045  0.0292  11.4\n",
              "1     -0.0113  0.0015  0.0067 -0.0346   9.9\n",
              "2     -0.0165  0.0015 -0.0008 -0.0825   9.8\n",
              "3     -0.0181  0.0007 -0.0053 -0.1140   9.3\n",
              "4     -0.0143 -0.0068 -0.0083 -0.1373   8.9\n",
              "...       ...     ...     ...     ...   ...\n",
              "15720 -0.0083 -0.0128  0.1125  0.0255   1.6\n",
              "15721 -0.0046 -0.0098  0.1155  0.0097   1.5\n",
              "15722  0.0007 -0.0038  0.1155  0.0097   1.5\n",
              "15723  0.0007  0.0022  0.1125  0.0277   1.4\n",
              "15724 -0.0030  0.0022  0.1125  0.0277   1.4\n",
              "\n",
              "[15725 rows x 5 columns]"
            ]
          },
          "execution_count": 15,
          "metadata": {},
          "output_type": "execute_result"
        }
      ],
      "source": [
        "A_folder_con[1]"
      ]
    },
    {
      "cell_type": "code",
      "execution_count": null,
      "metadata": {
        "id": "VRdvgjSr48i3"
      },
      "outputs": [],
      "source": []
    }
  ],
  "metadata": {
    "accelerator": "GPU",
    "colab": {
      "provenance": []
    },
    "gpuClass": "standard",
    "kernelspec": {
      "display_name": "Python 3",
      "name": "python3"
    },
    "language_info": {
      "name": "python"
    }
  },
  "nbformat": 4,
  "nbformat_minor": 0
}

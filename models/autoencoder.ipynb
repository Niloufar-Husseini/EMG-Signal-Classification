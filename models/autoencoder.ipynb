{
  "cells": [
    {
      "cell_type": "markdown",
      "metadata": {
        "id": "t7aZoHUzGW8y"
      },
      "source": [
        "# Imports"
      ]
    },
    {
      "cell_type": "code",
      "execution_count": 83,
      "metadata": {
        "id": "lpAv0OkPPvxd"
      },
      "outputs": [],
      "source": [
        "import torch\n",
        "import torch.nn as nn\n",
        "import torchvision\n",
        "from torchvision import datasets, transforms, models\n",
        "import numpy as np\n",
        "import matplotlib.pyplot as plt\n",
        "from datetime import datetime\n",
        "import sys, os\n",
        "from glob import glob\n",
        "import imageio\n",
        "import pandas as pd\n",
        "from torch.utils.data import Dataset, DataLoader\n",
        "from sklearn.model_selection import train_test_split\n",
        "import torch.nn.functional as F"
      ]
    },
    {
      "cell_type": "markdown",
      "metadata": {
        "id": "RrALi3ltGN5q"
      },
      "source": [
        "# Data Preprocessing\n"
      ]
    },
    {
      "cell_type": "code",
      "execution_count": 84,
      "metadata": {
        "colab": {
          "base_uri": "https://localhost:8080/"
        },
        "id": "kA9c6FV-P5Dm",
        "outputId": "52c92ea6-ed71-4043-9402-be97fec2d112"
      },
      "outputs": [
        {
          "name": "stdout",
          "output_type": "stream",
          "text": [
            "File ‘SEMG_DB1.rar’ already there; not retrieving.\n",
            "\n"
          ]
        }
      ],
      "source": [
        "!wget -nc https://archive.ics.uci.edu/ml/machine-learning-databases/00278/SEMG_DB1.rar"
      ]
    },
    {
      "cell_type": "code",
      "execution_count": 85,
      "metadata": {
        "colab": {
          "base_uri": "https://localhost:8080/"
        },
        "id": "MvrkmqMJQS_x",
        "outputId": "ad46d47f-3acf-44aa-8b5d-6ee30b5d7654"
      },
      "outputs": [
        {
          "name": "stdout",
          "output_type": "stream",
          "text": [
            "\n",
            "UNRAR 5.61 beta 1 freeware      Copyright (c) 1993-2018 Alexander Roshal\n",
            "\n",
            "\n",
            "Extracting from SEMG_DB1.rar\n",
            "\n",
            "\n",
            "Would you like to replace the existing file 10Amar.log\n",
            "275168 bytes, modified on 2013-04-27 11:09\n",
            "with a new one\n",
            "275168 bytes, modified on 2013-04-27 11:09\n",
            "\n",
            "[Y]es, [N]o, [A]ll, n[E]ver, [R]ename, [Q]uit E\n",
            "\n",
            "Extracting  10Amar.txt                                                   \b\b\b\b 23%\b\b\b\b 24%\b\b\b\b\b  OK \n",
            "Extracting  10Apie.txt                                                   \b\b\b\b 24%\b\b\b\b 25%\b\b\b\b\b  OK \n",
            "Extracting  10Asen.txt                                                   \b\b\b\b 25%\b\b\b\b 26%\b\b\b\b\b  OK \n",
            "Extracting  11Amar.txt                                                   \b\b\b\b 26%\b\b\b\b 27%\b\b\b\b\b  OK \n",
            "Extracting  11Apie.txt                                                   \b\b\b\b 27%\b\b\b\b 28%\b\b\b\b\b  OK \n",
            "Extracting  11Asen.txt                                                   \b\b\b\b 28%\b\b\b\b 29%\b\b\b\b\b  OK \n",
            "Extracting  1Amar.txt                                                    \b\b\b\b 30%\b\b\b\b\b  OK \n",
            "Extracting  1Apie.txt                                                    \b\b\b\b 30%\b\b\b\b 31%\b\b\b\b\b  OK \n",
            "Extracting  1Asen.txt                                                    \b\b\b\b 31%\b\b\b\b\b  OK \n",
            "Extracting  2Amar.txt                                                    \b\b\b\b 32%\b\b\b\b\b  OK \n",
            "Extracting  2Apie.txt                                                    \b\b\b\b 32%\b\b\b\b 33%\b\b\b\b\b  OK \n",
            "Extracting  2Asen.txt                                                    \b\b\b\b 33%\b\b\b\b\b  OK \n",
            "Extracting  3Amar.txt                                                    \b\b\b\b 34%\b\b\b\b 35%\b\b\b\b 36%\b\b\b\b\b  OK \n",
            "Extracting  3Apie.txt                                                    \b\b\b\b 36%\b\b\b\b 37%\b\b\b\b\b  OK \n",
            "Extracting  3Asen.txt                                                    \b\b\b\b 37%\b\b\b\b 38%\b\b\b\b\b  OK \n",
            "Extracting  4Amar.txt                                                    \b\b\b\b 38%\b\b\b\b 39%\b\b\b\b 40%\b\b\b\b 41%\b\b\b\b\b  OK \n",
            "Extracting  4Apie.txt                                                    \b\b\b\b 42%\b\b\b\b 43%\b\b\b\b\b  OK \n",
            "Extracting  4Asen.txt                                                    \b\b\b\b 43%\b\b\b\b 44%\b\b\b\b 45%\b\b\b\b\b  OK \n",
            "Extracting  5Amar.txt                                                    \b\b\b\b 45%\b\b\b\b 46%\b\b\b\b 47%\b\b\b\b\b  OK \n",
            "Extracting  5Apie.txt                                                    \b\b\b\b 47%\b\b\b\b 48%\b\b\b\b\b  OK \n",
            "Extracting  5Asen.txt                                                    \b\b\b\b 48%\b\b\b\b 49%\b\b\b\b\b  OK \n",
            "Extracting  6Amar.txt                                                    \b\b\b\b 49%\b\b\b\b 50%\b\b\b\b 51%\b\b\b\b 52%\b\b\b\b\b  OK \n",
            "Extracting  6Apie.txt                                                    \b\b\b\b 52%\b\b\b\b 53%\b\b\b\b 54%\b\b\b\b\b  OK \n",
            "Extracting  6Asen.txt                                                    \b\b\b\b 55%\b\b\b\b 56%\b\b\b\b 57%\b\b\b\b 58%\b\b\b\b\b  OK \n",
            "Extracting  7Amar.txt                                                    \b\b\b\b 58%\b\b\b\b 59%\b\b\b\b\b  OK \n",
            "Extracting  7Apie.txt                                                    \b\b\b\b 59%\b\b\b\b 60%\b\b\b\b\b  OK \n",
            "Extracting  7Asen.txt                                                    \b\b\b\b 60%\b\b\b\b\b  OK \n",
            "Extracting  8Amar.txt                                                    \b\b\b\b 61%\b\b\b\b\b  OK \n",
            "Extracting  8Apie.txt                                                    \b\b\b\b 61%\b\b\b\b 62%\b\b\b\b\b  OK \n",
            "Extracting  8Asen.txt                                                    \b\b\b\b 62%\b\b\b\b\b  OK \n",
            "Extracting  9Amar.txt                                                    \b\b\b\b 63%\b\b\b\b 64%\b\b\b\b\b  OK \n",
            "Extracting  9Apie.txt                                                    \b\b\b\b 64%\b\b\b\b 65%\b\b\b\b\b  OK \n",
            "Extracting  9Asen.txt                                                    \b\b\b\b 65%\b\b\b\b 66%\b\b\b\b\b  OK \n",
            "Extracting  10Nmar.txt                                                   \b\b\b\b 77%\b\b\b\b\b  OK \n",
            "Extracting  10Npie.txt                                                   \b\b\b\b 77%\b\b\b\b 78%\b\b\b\b 79%\b\b\b\b\b  OK \n",
            "Extracting  10Nsen.txt                                                   \b\b\b\b 79%\b\b\b\b 80%\b\b\b\b\b  OK \n",
            "Extracting  11Nmar.txt                                                   \b\b\b\b 80%\b\b\b\b\b  OK \n",
            "Extracting  11Npie.txt                                                   \b\b\b\b 81%\b\b\b\b\b  OK \n",
            "Extracting  11Nsen.txt                                                   \b\b\b\b 81%\b\b\b\b 82%\b\b\b\b\b  OK \n",
            "Extracting  1Nmar.txt                                                    \b\b\b\b 82%\b\b\b\b\b  OK \n",
            "Extracting  1Npie.txt                                                    \b\b\b\b 82%\b\b\b\b 83%\b\b\b\b\b  OK \n",
            "Extracting  1Nsen.txt                                                    \b\b\b\b 83%\b\b\b\b\b  OK \n",
            "Extracting  2Nmar.txt                                                    \b\b\b\b 84%\b\b\b\b\b  OK \n",
            "Extracting  2Npie.txt                                                    \b\b\b\b 84%\b\b\b\b 85%\b\b\b\b\b  OK \n",
            "Extracting  2Nsen.txt                                                    \b\b\b\b 85%\b\b\b\b\b  OK \n",
            "Extracting  3Nmar.txt                                                    \b\b\b\b 85%\b\b\b\b 86%\b\b\b\b\b  OK \n",
            "Extracting  3Npie.txt                                                    \b\b\b\b 86%\b\b\b\b\b  OK \n",
            "Extracting  3Nsen.txt                                                    \b\b\b\b 86%\b\b\b\b 87%\b\b\b\b\b  OK \n",
            "Extracting  4Nmar.txt                                                    \b\b\b\b 87%\b\b\b\b\b  OK \n",
            "Extracting  4Npie.txt                                                    \b\b\b\b 87%\b\b\b\b 88%\b\b\b\b\b  OK \n",
            "Extracting  4Nsen.txt                                                    \b\b\b\b 88%\b\b\b\b\b  OK \n",
            "Extracting  5Nmar.txt                                                    \b\b\b\b 89%\b\b\b\b\b  OK \n",
            "Extracting  5Npie.txt                                                    \b\b\b\b 89%\b\b\b\b 90%\b\b\b\b\b  OK \n",
            "Extracting  5Nsen.txt                                                    \b\b\b\b 90%\b\b\b\b\b  OK \n",
            "Extracting  6Nmar.txt                                                    \b\b\b\b 90%\b\b\b\b 91%\b\b\b\b\b  OK \n",
            "Extracting  6Npie.txt                                                    \b\b\b\b 91%\b\b\b\b\b  OK \n",
            "Extracting  6Nsen.txt                                                    \b\b\b\b 92%\b\b\b\b\b  OK \n",
            "Extracting  7Nmar.txt                                                    \b\b\b\b 92%\b\b\b\b 93%\b\b\b\b\b  OK \n",
            "Extracting  7Npie.txt                                                    \b\b\b\b 93%\b\b\b\b\b  OK \n",
            "Extracting  7Nsen.txt                                                    \b\b\b\b 94%\b\b\b\b 95%\b\b\b\b\b  OK \n",
            "Extracting  8Nmar.txt                                                    \b\b\b\b 95%\b\b\b\b\b  OK \n",
            "Extracting  8Npie.txt                                                    \b\b\b\b 95%\b\b\b\b 96%\b\b\b\b\b  OK \n",
            "Extracting  8Nsen.txt                                                    \b\b\b\b 96%\b\b\b\b 97%\b\b\b\b\b  OK \n",
            "Extracting  9Nmar.txt                                                    \b\b\b\b 97%\b\b\b\b\b  OK \n",
            "Extracting  9Npie.txt                                                    \b\b\b\b 98%\b\b\b\b\b  OK \n",
            "Extracting  9Nsen.txt                                                    \b\b\b\b 99%\b\b\b\b\b  OK \n",
            "All OK\n"
          ]
        }
      ],
      "source": [
        "!unrar e  SEMG_DB1.rar"
      ]
    },
    {
      "cell_type": "code",
      "execution_count": 86,
      "metadata": {
        "colab": {
          "base_uri": "https://localhost:8080/"
        },
        "id": "bl1unw63VrLx",
        "outputId": "2b336eb1-18db-4ba4-8e0b-b9ea2274a123"
      },
      "outputs": [
        {
          "name": "stdout",
          "output_type": "stream",
          "text": [
            "mkdir: cannot create directory ‘data’: File exists\n",
            "mkdir: cannot create directory ‘data/A’: File exists\n",
            "mkdir: cannot create directory ‘data/N’: File exists\n"
          ]
        }
      ],
      "source": [
        "!mkdir data\n",
        "!mkdir data/A\n",
        "!mkdir data/N\n",
        "!mv [1-9]A*.txt data/A\n",
        "!mv [1-9]N*.txt data/N\n",
        "!mv 1[0-9]A*.txt data/A\n",
        "!mv 1[0-9]N*.txt data/N"
      ]
    },
    {
      "cell_type": "code",
      "execution_count": 87,
      "metadata": {
        "id": "KMozL5n3nqC6"
      },
      "outputs": [],
      "source": [
        "def read_folder(path): \n",
        "  folder_con = []\n",
        "  file_name = []\n",
        "  n = 1\n",
        "  for file in os.listdir(path):\n",
        "      if file.endswith(\".txt\"):\n",
        "          file_path = f\"{path}/{file}\"\n",
        "          df = pd.read_csv(file_path, sep='\\t', skiprows=list(range(7)), header=None).dropna()\n",
        "          \n",
        "          if len(df.columns) == 6:\n",
        "            df.drop(columns=df.columns[-2:], axis=1, inplace=True)\n",
        "          if len(df.columns) == 5:\n",
        "            df.drop(columns=df.columns[-1:], axis=1, inplace=True)\n",
        "          \n",
        "          folder_con.append(df)\n",
        "          file_name.append(file_path)\n",
        "          n = n + 1\n",
        "          \n",
        "  return folder_con, file_name"
      ]
    },
    {
      "cell_type": "code",
      "execution_count": 88,
      "metadata": {
        "id": "LZBrKdECpksh"
      },
      "outputs": [],
      "source": [
        "A_folder_con, A_name = read_folder('data/A')\n",
        "N_folder_con, N_name = read_folder('data/N')\n",
        "A_final_data = pd.concat(A_folder_con, ignore_index=True)\n",
        "N_final_data = pd.concat(N_folder_con, ignore_index=True)\n",
        "A_torch_data = torch.tensor(A_final_data.values)\n",
        "N_torch_data = torch.tensor(N_final_data.values)"
      ]
    },
    {
      "cell_type": "code",
      "execution_count": 89,
      "metadata": {
        "id": "hSTrFIvENhOw"
      },
      "outputs": [],
      "source": [
        "def image_creator(data, label, wid_len=256, stride=128):\n",
        "  i = 0\n",
        "  num = 0\n",
        "  img_list = []\n",
        "  while True:\n",
        "    img = data[i: i+wid_len]\n",
        "    # img_list.append(img)\n",
        "    i = i + stride\n",
        "    num = num + 1 \n",
        "    new = []\n",
        "    new.append(img.reshape(1, wid_len, 4))\n",
        "    new.append(label)\n",
        "    img_list.append(new)\n",
        "    if num == int(((len(data) - wid_len) / stride + 1)):\n",
        "      break\n",
        "  return img_list\n",
        "  "
      ]
    },
    {
      "cell_type": "code",
      "execution_count": 90,
      "metadata": {
        "id": "s9E_IUINRcKn"
      },
      "outputs": [],
      "source": [
        "N_list = image_creator(N_torch_data, label=0, wid_len=256, stride=128)\n",
        "A_list = image_creator(A_torch_data, label=1, wid_len=256, stride=128)\n",
        "data = A_list + N_list"
      ]
    },
    {
      "cell_type": "code",
      "execution_count": 91,
      "metadata": {
        "id": "wmpebSREgCXd"
      },
      "outputs": [],
      "source": [
        "class MyDataset(Dataset):\n",
        "    def __init__(self, data, transform=None):\n",
        "        self.data_frame = data\n",
        "        self.transform = transform\n",
        "\n",
        "    def __len__(self):\n",
        "        return len(self.data_frame)\n",
        "\n",
        "    def __getitem__(self, idx):\n",
        "        if torch.is_tensor(idx):\n",
        "            idx = idx.tolist()\n",
        "        image = self.data_frame[idx][0]\n",
        "        label = self.data_frame[idx][1]\n",
        "        \n",
        "        if self.transform:\n",
        "            image = self.transform(image)\n",
        "            image = image.double()\n",
        "\n",
        "        return image, label"
      ]
    },
    {
      "cell_type": "code",
      "execution_count": 92,
      "metadata": {
        "colab": {
          "base_uri": "https://localhost:8080/",
          "height": 406
        },
        "id": "xa47o67XgaTl",
        "outputId": "bfa95bfc-e661-4262-a229-535a396d76fb"
      },
      "outputs": [
        {
          "data": {
            "image/png": "[encoded data removed]",
            "text/plain": [
              "<Figure size 640x480 with 1 Axes>"
            ]
          },
          "metadata": {},
          "output_type": "display_data"
        }
      ],
      "source": [
        "plt.imshow(data[0][0].squeeze(), cmap=\"gray\")\n",
        "plt.axis(False)\n",
        "plt.show()"
      ]
    },
    {
      "cell_type": "code",
      "execution_count": 93,
      "metadata": {
        "id": "FR3GvcHBjnJJ"
      },
      "outputs": [],
      "source": [
        "train, test = train_test_split(data, test_size=0.33, shuffle=True)"
      ]
    },
    {
      "cell_type": "code",
      "execution_count": 94,
      "metadata": {
        "colab": {
          "base_uri": "https://localhost:8080/"
        },
        "id": "Wm_zNIrAP9Kq",
        "outputId": "a497b208-729e-4f59-c79c-75dc1bfcfa8e"
      },
      "outputs": [
        {
          "data": {
            "text/plain": [
              "[tensor([[[-0.0091, -0.0008,  0.0090,  0.0000],\n",
              "          [-0.0120, -0.0008,  0.0052,  0.0007],\n",
              "          [-0.0105,  0.0007,  0.0007,  0.0007],\n",
              "          ...,\n",
              "          [-0.0053,  0.0007,  0.0007,  0.0015],\n",
              "          [-0.0023,  0.0007,  0.0045,  0.0015],\n",
              "          [-0.0060, -0.0008,  0.0060,  0.0030]]], dtype=torch.float64),\n",
              " 1]"
            ]
          },
          "execution_count": 94,
          "metadata": {},
          "output_type": "execute_result"
        }
      ],
      "source": [
        "test[0]"
      ]
    },
    {
      "cell_type": "code",
      "execution_count": 95,
      "metadata": {
        "id": "ienZNdxfkNlg"
      },
      "outputs": [],
      "source": [
        "train_dataset = MyDataset(train)\n",
        "test_dataset = MyDataset(test)\n",
        "# Data loader\n",
        "batch_size = 256\n",
        "train_loader = torch.utils.data.DataLoader(dataset=train_dataset,\n",
        "                                           batch_size=batch_size, \n",
        "                                           shuffle=True)\n",
        "\n",
        "\n",
        "test_loader = torch.utils.data.DataLoader(dataset=test_dataset,\n",
        "                                          batch_size=batch_size,\n",
        "                                          shuffle=False)\n"
      ]
    },
    {
      "cell_type": "markdown",
      "metadata": {
        "id": "HPPqGPCAGnl7"
      },
      "source": [
        "# Network Implementation"
      ]
    },
    {
      "cell_type": "code",
      "execution_count": 96,
      "metadata": {
        "id": "1VIE4ToukbuO"
      },
      "outputs": [],
      "source": [
        "class Reshape(nn.Module):\n",
        "  def __init__(self, *args):\n",
        "      super().__init__()\n",
        "      self.shape = args\n",
        "\n",
        "  def forward(self, x):\n",
        "      return x.view(self.shape)\n",
        "\n",
        "class Trim(nn.Module):\n",
        "  def __init__(self, *args):\n",
        "      super().__init__()\n",
        "\n",
        "  def forward(self, x):\n",
        "      return x[:, :, :256, :]\n",
        "\n",
        "\n",
        "\n",
        "class Encoder(nn.Module):\n",
        "  def __init__(self):\n",
        "    super().__init__()\n",
        "\n",
        "    self.encoder = nn.Sequential(\n",
        "        nn.Conv2d(1, 32, stride=(1, 1), kernel_size=(3, 3), padding=1),\n",
        "        nn.LeakyReLU(0.01),\n",
        "        nn.Conv2d(32, 64, stride=(2, 2), kernel_size=(3, 3), padding=1),\n",
        "        nn.LeakyReLU(0.01),\n",
        "        nn.Conv2d(64, 64, stride=(2, 2), kernel_size=(3, 3), padding=1),\n",
        "        nn.Flatten(),\n",
        "        nn.Linear(64*64*1, 2)\n",
        "    )\n",
        "\n",
        "  def forward(self, x):\n",
        "      x = self.encoder(x)\n",
        "      return x\n",
        "    \n",
        "\n",
        "  \n",
        "\n",
        "class Decoder(nn.Module):\n",
        "  def __init__(self):\n",
        "    super().__init__()\n",
        "\n",
        "    self.decoder = nn.Sequential(\n",
        "        nn.Linear(2, 64*64*1),\n",
        "        Reshape(-1, 64, 64, 1),\n",
        "        nn.ConvTranspose2d(64, 64, stride=(1, 1), kernel_size=(3, 3), padding=1),\n",
        "        nn.LeakyReLU(0.01),\n",
        "        nn.ConvTranspose2d(64, 64, stride=(2, 2), kernel_size=(3, 3), padding=1),                \n",
        "        nn.LeakyReLU(0.01),\n",
        "        nn.ConvTranspose2d(64, 1, stride=(2, 2), kernel_size=(4, 4), padding=0),                \n",
        "        nn.Sigmoid()\n",
        "        )\n",
        "\n",
        "  def forward(self, x):\n",
        "      x = self.decoder(x)\n",
        "      return x\n",
        "    "
      ]
    },
    {
      "cell_type": "code",
      "execution_count": 97,
      "metadata": {
        "id": "VB3ULj-LwZPF"
      },
      "outputs": [],
      "source": [
        "encoder = Encoder()\n",
        "decoder = Decoder()"
      ]
    },
    {
      "cell_type": "code",
      "execution_count": 98,
      "metadata": {
        "colab": {
          "base_uri": "https://localhost:8080/"
        },
        "id": "0knNO9lu8IJI",
        "outputId": "52023adc-f10a-4122-ddea-bd7832bd7fcc"
      },
      "outputs": [
        {
          "name": "stdout",
          "output_type": "stream",
          "text": [
            "cuda:0\n"
          ]
        },
        {
          "data": {
            "text/plain": [
              "Decoder(\n",
              "  (decoder): Sequential(\n",
              "    (0): Linear(in_features=2, out_features=4096, bias=True)\n",
              "    (1): Reshape()\n",
              "    (2): ConvTranspose2d(64, 64, kernel_size=(3, 3), stride=(1, 1), padding=(1, 1))\n",
              "    (3): LeakyReLU(negative_slope=0.01)\n",
              "    (4): ConvTranspose2d(64, 64, kernel_size=(3, 3), stride=(2, 2), padding=(1, 1))\n",
              "    (5): LeakyReLU(negative_slope=0.01)\n",
              "    (6): ConvTranspose2d(64, 1, kernel_size=(4, 4), stride=(2, 2))\n",
              "    (7): Sigmoid()\n",
              "  )\n",
              ")"
            ]
          },
          "execution_count": 98,
          "metadata": {},
          "output_type": "execute_result"
        }
      ],
      "source": [
        "device = torch.device(\"cuda:0\" if torch.cuda.is_available() else \"cpu\")\n",
        "print(device)\n",
        "encoder.to(device)\n",
        "decoder.to(device)"
      ]
    },
    {
      "cell_type": "code",
      "execution_count": 99,
      "metadata": {
        "colab": {
          "base_uri": "https://localhost:8080/"
        },
        "id": "AAHObwLxmoDL",
        "outputId": "d05ee101-a3de-4f3b-a4f4-5e2bf67c96b9"
      },
      "outputs": [
        {
          "name": "stdout",
          "output_type": "stream",
          "text": [
            "----------------------------------------------------------------\n",
            "        Layer (type)               Output Shape         Param #\n",
            "================================================================\n",
            "            Conv2d-1           [-1, 32, 256, 4]             320\n",
            "         LeakyReLU-2           [-1, 32, 256, 4]               0\n",
            "            Conv2d-3           [-1, 64, 128, 2]          18,496\n",
            "         LeakyReLU-4           [-1, 64, 128, 2]               0\n",
            "            Conv2d-5            [-1, 64, 64, 1]          36,928\n",
            "           Flatten-6                 [-1, 4096]               0\n",
            "            Linear-7                    [-1, 2]           8,194\n",
            "================================================================\n",
            "Total params: 63,938\n",
            "Trainable params: 63,938\n",
            "Non-trainable params: 0\n",
            "----------------------------------------------------------------\n",
            "Input size (MB): 0.00\n",
            "Forward/backward pass size (MB): 0.81\n",
            "Params size (MB): 0.24\n",
            "Estimated Total Size (MB): 1.06\n",
            "----------------------------------------------------------------\n"
          ]
        }
      ],
      "source": [
        "from torchsummary import summary\n",
        "summary(encoder, (1, 256, 4))\n"
      ]
    },
    {
      "cell_type": "code",
      "execution_count": 100,
      "metadata": {
        "colab": {
          "base_uri": "https://localhost:8080/"
        },
        "id": "vMryhwO_LQRL",
        "outputId": "5723f42d-87f7-48ac-8724-543680f3d957"
      },
      "outputs": [
        {
          "name": "stdout",
          "output_type": "stream",
          "text": [
            "----------------------------------------------------------------\n",
            "        Layer (type)               Output Shape         Param #\n",
            "================================================================\n",
            "            Linear-1              [-1, 1, 4096]          12,288\n",
            "           Reshape-2            [-1, 64, 64, 1]               0\n",
            "   ConvTranspose2d-3            [-1, 64, 64, 1]          36,928\n",
            "         LeakyReLU-4            [-1, 64, 64, 1]               0\n",
            "   ConvTranspose2d-5           [-1, 64, 127, 1]          36,928\n",
            "         LeakyReLU-6           [-1, 64, 127, 1]               0\n",
            "   ConvTranspose2d-7            [-1, 1, 256, 4]           1,025\n",
            "           Sigmoid-8            [-1, 1, 256, 4]               0\n",
            "================================================================\n",
            "Total params: 87,169\n",
            "Trainable params: 87,169\n",
            "Non-trainable params: 0\n",
            "----------------------------------------------------------------\n",
            "Input size (MB): 0.00\n",
            "Forward/backward pass size (MB): 0.26\n",
            "Params size (MB): 0.33\n",
            "Estimated Total Size (MB): 0.60\n",
            "----------------------------------------------------------------\n"
          ]
        }
      ],
      "source": [
        "summary(decoder, (1, 2))"
      ]
    },
    {
      "cell_type": "code",
      "execution_count": 101,
      "metadata": {
        "colab": {
          "base_uri": "https://localhost:8080/"
        },
        "id": "hhx95Cmxn74n",
        "outputId": "9e7d6f9e-3886-45c2-f358-6291d68fea0a"
      },
      "outputs": [
        {
          "data": {
            "text/plain": [
              "Encoder(\n",
              "  (encoder): Sequential(\n",
              "    (0): Conv2d(1, 32, kernel_size=(3, 3), stride=(1, 1), padding=(1, 1))\n",
              "    (1): LeakyReLU(negative_slope=0.01)\n",
              "    (2): Conv2d(32, 64, kernel_size=(3, 3), stride=(2, 2), padding=(1, 1))\n",
              "    (3): LeakyReLU(negative_slope=0.01)\n",
              "    (4): Conv2d(64, 64, kernel_size=(3, 3), stride=(2, 2), padding=(1, 1))\n",
              "    (5): Flatten(start_dim=1, end_dim=-1)\n",
              "    (6): Linear(in_features=4096, out_features=2, bias=True)\n",
              "  )\n",
              ")"
            ]
          },
          "execution_count": 101,
          "metadata": {},
          "output_type": "execute_result"
        }
      ],
      "source": [
        "encoder.double()"
      ]
    },
    {
      "cell_type": "code",
      "execution_count": 102,
      "metadata": {
        "colab": {
          "base_uri": "https://localhost:8080/"
        },
        "id": "SgkfgJeOLTPf",
        "outputId": "bd19f726-934a-4317-a344-10afdf28dccd"
      },
      "outputs": [
        {
          "data": {
            "text/plain": [
              "Decoder(\n",
              "  (decoder): Sequential(\n",
              "    (0): Linear(in_features=2, out_features=4096, bias=True)\n",
              "    (1): Reshape()\n",
              "    (2): ConvTranspose2d(64, 64, kernel_size=(3, 3), stride=(1, 1), padding=(1, 1))\n",
              "    (3): LeakyReLU(negative_slope=0.01)\n",
              "    (4): ConvTranspose2d(64, 64, kernel_size=(3, 3), stride=(2, 2), padding=(1, 1))\n",
              "    (5): LeakyReLU(negative_slope=0.01)\n",
              "    (6): ConvTranspose2d(64, 1, kernel_size=(4, 4), stride=(2, 2))\n",
              "    (7): Sigmoid()\n",
              "  )\n",
              ")"
            ]
          },
          "execution_count": 102,
          "metadata": {},
          "output_type": "execute_result"
        }
      ],
      "source": [
        "decoder.double()"
      ]
    },
    {
      "cell_type": "code",
      "execution_count": 103,
      "metadata": {
        "id": "q582v8638OEN"
      },
      "outputs": [],
      "source": [
        "criterion = torch.nn.MSELoss()\n",
        "params_to_optimize = [\n",
        "    {'params': encoder.parameters()},\n",
        "    {'params': decoder.parameters()}\n",
        "]\n",
        "\n",
        "optimizer = torch.optim.Adam(params_to_optimize, lr=0.0001, weight_decay=1e-05)"
      ]
    },
    {
      "cell_type": "code",
      "execution_count": 104,
      "metadata": {
        "id": "CW1HQqge8Q0s"
      },
      "outputs": [],
      "source": [
        "def batch_gd(criterion, optimizer, train_loader, test_loader, epochs):\n",
        "  train_losses = np.zeros(epochs)\n",
        "  test_losses = np.zeros(epochs)\n",
        "\n",
        "  for it in range(epochs):\n",
        "    encoder.train()\n",
        "    decoder.train()\n",
        "    t0 = datetime.now()\n",
        "    train_loss = []\n",
        "    for inputs, targets in train_loader:\n",
        "      inputs, targets = inputs.to(device), targets.to(device)\n",
        "      optimizer.zero_grad()\n",
        "      encoded_data = encoder(inputs)\n",
        "      decoded_data = decoder(encoded_data)\n",
        "      loss = criterion(decoded_data, inputs)\n",
        "      loss.backward()\n",
        "      optimizer.step()\n",
        "      train_loss.append(loss.item())\n",
        "    train_loss = np.mean(train_loss)\n",
        "\n",
        "    encoder.eval()\n",
        "    decoder.eval()\n",
        "    with torch.no_grad():\n",
        "      test_loss = []\n",
        "      for inputs, targets in test_loader:\n",
        "        inputs, targets = inputs.to(device), targets.to(device)\n",
        "        encoded_data = encoder(inputs)\n",
        "        decoded_data = decoder(encoded_data)\n",
        "        loss = criterion(decoded_data, inputs)\n",
        "        test_loss.append(loss.item())\n",
        "      test_loss = np.mean(test_loss)\n",
        "\n",
        "      train_losses[it] = train_loss\n",
        "      test_losses[it] = test_loss\n",
        "\n",
        "\n",
        "      dt = datetime.now() - t0\n",
        "      print(f\"Epoch {it+1}/{epochs}, Train Loss: {train_loss:.4f}, \\\n",
        "      Test Loss: {test_loss:.4f}, Duration:{dt}\")\n",
        "\n",
        "  return train_losses, test_losses\n",
        "\n"
      ]
    },
    {
      "cell_type": "markdown",
      "metadata": {
        "id": "paH6yS4rGyWD"
      },
      "source": [
        "# Model Train and Resualts"
      ]
    },
    {
      "cell_type": "code",
      "execution_count": 105,
      "metadata": {
        "colab": {
          "base_uri": "https://localhost:8080/"
        },
        "id": "W1fwuGBB8WKP",
        "outputId": "e6752d6b-d368-4179-99d1-47bdf41f3fae"
      },
      "outputs": [
        {
          "name": "stdout",
          "output_type": "stream",
          "text": [
            "Epoch 1/10, Train Loss: 0.2184,       Test Loss: 0.2045, Duration:0:00:05.289300\n",
            "Epoch 2/10, Train Loss: 0.1411,       Test Loss: 0.0450, Duration:0:00:05.209713\n",
            "Epoch 3/10, Train Loss: 0.0125,       Test Loss: 0.0034, Duration:0:00:05.236071\n",
            "Epoch 4/10, Train Loss: 0.0031,       Test Loss: 0.0028, Duration:0:00:05.274625\n",
            "Epoch 5/10, Train Loss: 0.0028,       Test Loss: 0.0027, Duration:0:00:05.289441\n",
            "Epoch 6/10, Train Loss: 0.0027,       Test Loss: 0.0026, Duration:0:00:05.332117\n",
            "Epoch 7/10, Train Loss: 0.0027,       Test Loss: 0.0026, Duration:0:00:05.313534\n",
            "Epoch 8/10, Train Loss: 0.0027,       Test Loss: 0.0026, Duration:0:00:05.301004\n",
            "Epoch 9/10, Train Loss: 0.0026,       Test Loss: 0.0026, Duration:0:00:05.275667\n",
            "Epoch 10/10, Train Loss: 0.0026,       Test Loss: 0.0026, Duration:0:00:05.246138\n"
          ]
        }
      ],
      "source": [
        "train_losses, test_losses = batch_gd(\n",
        "    criterion, optimizer, train_loader, test_loader, epochs=10\n",
        ")"
      ]
    },
    {
      "cell_type": "code",
      "execution_count": 106,
      "metadata": {
        "colab": {
          "base_uri": "https://localhost:8080/",
          "height": 430
        },
        "id": "-14DxSsqDooL",
        "outputId": "ad27f0eb-41c4-4d4d-ffc9-03bae0bd7c34"
      },
      "outputs": [
        {
          "data": {
            "image/png": "[encoded data removed]",
            "text/plain": [
              "<Figure size 640x480 with 1 Axes>"
            ]
          },
          "metadata": {},
          "output_type": "display_data"
        }
      ],
      "source": [
        "plt.plot(train_losses, label='train loss')\n",
        "plt.plot(test_losses, label='test loss')\n",
        "plt.legend()\n",
        "plt.show()"
      ]
    },
    {
      "cell_type": "code",
      "execution_count": 107,
      "metadata": {
        "colab": {
          "base_uri": "https://localhost:8080/",
          "height": 390
        },
        "id": "f2nbMRdxRole",
        "outputId": "523d2cf6-e42a-4f53-898b-cde9d5646833"
      },
      "outputs": [
        {
          "data": {
            "image/png": "[encoded data removed]",
            "text/plain": [
              "<Figure size 1600x450 with 20 Axes>"
            ]
          },
          "metadata": {},
          "output_type": "display_data"
        }
      ],
      "source": [
        "plt.figure(figsize=(16, 4.5))\n",
        "n = 10\n",
        "for i in range(n):\n",
        "  ax = plt.subplot(2, n, i+1)\n",
        "  img = test[i][0].unsqueeze(0).to(device)\n",
        "  encoder.eval()\n",
        "  decoder.eval()\n",
        "  with torch.no_grad():\n",
        "      rec_img  = decoder(encoder(img))\n",
        "  plt.imshow(img.cpu().squeeze().numpy(), cmap='gist_gray')\n",
        "  ax.get_xaxis().set_visible(False)\n",
        "  ax.get_yaxis().set_visible(False)  \n",
        "  if i == n//2:\n",
        "    ax.set_title('Original images')\n",
        "  ax = plt.subplot(2, n, i + 1 + n)\n",
        "  plt.imshow(rec_img.cpu().squeeze().numpy(), cmap='gist_gray')  \n",
        "  ax.get_xaxis().set_visible(False)\n",
        "  ax.get_yaxis().set_visible(False)  \n",
        "  if i == n//2:\n",
        "      ax.set_title('Reconstructed images')\n",
        "plt.show()   "
      ]
    },
    {
      "cell_type": "code",
      "execution_count": 108,
      "metadata": {
        "id": "Z1wNdVS9tX8r"
      },
      "outputs": [],
      "source": [
        "torch.save(encoder, 'Encoder.pth')\n",
        "torch.save(decoder, 'Decoder.pth')"
      ]
    }
  ],
  "metadata": {
    "accelerator": "GPU",
    "colab": {
      "gpuType": "T4",
      "provenance": []
    },
    "gpuClass": "standard",
    "kernelspec": {
      "display_name": "Python 3",
      "name": "python3"
    },
    "language_info": {
      "name": "python"
    }
  },
  "nbformat": 4,
  "nbformat_minor": 0
}

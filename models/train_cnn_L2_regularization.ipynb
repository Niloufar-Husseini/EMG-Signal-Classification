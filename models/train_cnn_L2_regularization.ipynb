{
  "cells": [
    {
      "cell_type": "markdown",
      "metadata": {
        "id": "1aw7K7bnXALr"
      },
      "source": [
        "# Imports"
      ]
    },
    {
      "cell_type": "code",
      "execution_count": 1,
      "metadata": {
        "id": "lpAv0OkPPvxd"
      },
      "outputs": [],
      "source": [
        "import torch\n",
        "import torch.nn as nn\n",
        "import torchvision\n",
        "from torchvision import datasets, transforms, models\n",
        "import numpy as np\n",
        "import matplotlib.pyplot as plt\n",
        "from datetime import datetime\n",
        "import sys, os\n",
        "from glob import glob\n",
        "import imageio\n",
        "import pandas as pd\n",
        "from torch.utils.data import Dataset, DataLoader\n",
        "from sklearn.model_selection import train_test_split\n",
        "import torch.nn.functional as F"
      ]
    },
    {
      "cell_type": "markdown",
      "metadata": {
        "id": "1ex9teasW-2a"
      },
      "source": [
        "# Data Preprocessing"
      ]
    },
    {
      "cell_type": "code",
      "execution_count": 2,
      "metadata": {
        "colab": {
          "base_uri": "https://localhost:8080/"
        },
        "id": "kA9c6FV-P5Dm",
        "outputId": "54e221d6-08a4-4cbd-a85a-1fb261bf4c96"
      },
      "outputs": [
        {
          "name": "stdout",
          "output_type": "stream",
          "text": [
            "--2023-05-05 14:44:10--  https://archive.ics.uci.edu/ml/machine-learning-databases/00278/SEMG_DB1.rar\n",
            "Resolving archive.ics.uci.edu (archive.ics.uci.edu)... 128.195.10.252\n",
            "Connecting to archive.ics.uci.edu (archive.ics.uci.edu)|128.195.10.252|:443... connected.\n",
            "HTTP request sent, awaiting response... 200 OK\n",
            "Length: 14440981 (14M) [application/x-httpd-php]\n",
            "Saving to: ‘SEMG_DB1.rar’\n",
            "\n",
            "SEMG_DB1.rar        100%[===================>]  13.77M  16.8MB/s    in 0.8s    \n",
            "\n",
            "2023-05-05 14:44:11 (16.8 MB/s) - ‘SEMG_DB1.rar’ saved [14440981/14440981]\n",
            "\n"
          ]
        }
      ],
      "source": [
        "!wget -nc https://archive.ics.uci.edu/ml/machine-learning-databases/00278/SEMG_DB1.rar"
      ]
    },
    {
      "cell_type": "code",
      "execution_count": 3,
      "metadata": {
        "colab": {
          "base_uri": "https://localhost:8080/"
        },
        "id": "MvrkmqMJQS_x",
        "outputId": "177a960a-286f-41ec-b8cf-a9e00890bf21"
      },
      "outputs": [
        {
          "name": "stdout",
          "output_type": "stream",
          "text": [
            "\n",
            "UNRAR 5.61 beta 1 freeware      Copyright (c) 1993-2018 Alexander Roshal\n",
            "\n",
            "\n",
            "Extracting from SEMG_DB1.rar\n",
            "\n",
            "Extracting  10Amar.log                                                   \b\b\b\b  0%\b\b\b\b\b  OK \n",
            "Extracting  10Apie.log                                                   \b\b\b\b  0%\b\b\b\b  1%\b\b\b\b\b  OK \n",
            "Extracting  10Asen.log                                                   \b\b\b\b  1%\b\b\b\b\b  OK \n",
            "Extracting  11Amar.log                                                   \b\b\b\b  1%\b\b\b\b  2%\b\b\b\b\b  OK \n",
            "Extracting  11Apie.log                                                   \b\b\b\b  2%\b\b\b\b\b  OK \n",
            "Extracting  11Asen.log                                                   \b\b\b\b  3%\b\b\b\b\b  OK \n",
            "Extracting  1Amar.log                                                    \b\b\b\b  3%\b\b\b\b\b  OK \n",
            "Extracting  1Apie.log                                                    \b\b\b\b  4%\b\b\b\b\b  OK \n",
            "Extracting  1Asen.log                                                    \b\b\b\b  4%\b\b\b\b\b  OK \n",
            "Extracting  2Amar.log                                                    \b\b\b\b  4%\b\b\b\b\b  OK \n",
            "Extracting  2Apie.log                                                    \b\b\b\b  5%\b\b\b\b\b  OK \n",
            "Extracting  2Asen.log                                                    \b\b\b\b  5%\b\b\b\b\b  OK \n",
            "Extracting  3Amar.log                                                    \b\b\b\b  5%\b\b\b\b  6%\b\b\b\b\b  OK \n",
            "Extracting  3Apie.log                                                    \b\b\b\b  7%\b\b\b\b\b  OK \n",
            "Extracting  3Asen.log                                                    \b\b\b\b  7%\b\b\b\b  8%\b\b\b\b\b  OK \n",
            "Extracting  4Amar.log                                                    \b\b\b\b  8%\b\b\b\b  9%\b\b\b\b\b  OK \n",
            "Extracting  4Apie.log                                                    \b\b\b\b 10%\b\b\b\b 11%\b\b\b\b\b  OK \n",
            "Extracting  4Asen.log                                                    \b\b\b\b 11%\b\b\b\b\b  OK \n",
            "Extracting  5Amar.log                                                    \b\b\b\b 12%\b\b\b\b 13%\b\b\b\b\b  OK \n",
            "Extracting  5Apie.log                                                    \b\b\b\b 13%\b\b\b\b\b  OK \n",
            "Extracting  5Asen.log                                                    \b\b\b\b 13%\b\b\b\b 14%\b\b\b\b\b  OK \n",
            "Extracting  6Amar.log                                                    \b\b\b\b 14%\b\b\b\b 15%\b\b\b\b\b  OK \n",
            "Extracting  6Apie.log                                                    \b\b\b\b 16%\b\b\b\b 17%\b\b\b\b\b  OK \n",
            "Extracting  6Asen.log                                                    \b\b\b\b 17%\b\b\b\b 18%\b\b\b\b 19%\b\b\b\b\b  OK \n",
            "Extracting  7Amar.log                                                    \b\b\b\b 19%\b\b\b\b\b  OK \n",
            "Extracting  7Apie.log                                                    \b\b\b\b 19%\b\b\b\b 20%\b\b\b\b\b  OK \n",
            "Extracting  7Asen.log                                                    \b\b\b\b 20%\b\b\b\b\b  OK \n",
            "Extracting  8Amar.log                                                    \b\b\b\b 20%\b\b\b\b\b  OK \n",
            "Extracting  8Apie.log                                                    \b\b\b\b 21%\b\b\b\b\b  OK \n",
            "Extracting  8Asen.log                                                    \b\b\b\b 21%\b\b\b\b\b  OK \n",
            "Extracting  9Amar.log                                                    \b\b\b\b 21%\b\b\b\b 22%\b\b\b\b\b  OK \n",
            "Extracting  9Apie.log                                                    \b\b\b\b 22%\b\b\b\b 23%\b\b\b\b\b  OK \n",
            "Extracting  9Asen.log                                                    \b\b\b\b 23%\b\b\b\b\b  OK \n",
            "Extracting  10Amar.txt                                                   \b\b\b\b 23%\b\b\b\b 24%\b\b\b\b\b  OK \n",
            "Extracting  10Apie.txt                                                   \b\b\b\b 24%\b\b\b\b 25%\b\b\b\b\b  OK \n",
            "Extracting  10Asen.txt                                                   \b\b\b\b 25%\b\b\b\b 26%\b\b\b\b\b  OK \n",
            "Extracting  11Amar.txt                                                   \b\b\b\b 26%\b\b\b\b 27%\b\b\b\b\b  OK \n",
            "Extracting  11Apie.txt                                                   \b\b\b\b 27%\b\b\b\b 28%\b\b\b\b\b  OK \n",
            "Extracting  11Asen.txt                                                   \b\b\b\b 28%\b\b\b\b 29%\b\b\b\b\b  OK \n",
            "Extracting  1Amar.txt                                                    \b\b\b\b 30%\b\b\b\b\b  OK \n",
            "Extracting  1Apie.txt                                                    \b\b\b\b 30%\b\b\b\b 31%\b\b\b\b\b  OK \n",
            "Extracting  1Asen.txt                                                    \b\b\b\b 31%\b\b\b\b\b  OK \n",
            "Extracting  2Amar.txt                                                    \b\b\b\b 32%\b\b\b\b\b  OK \n",
            "Extracting  2Apie.txt                                                    \b\b\b\b 32%\b\b\b\b 33%\b\b\b\b\b  OK \n",
            "Extracting  2Asen.txt                                                    \b\b\b\b 33%\b\b\b\b\b  OK \n",
            "Extracting  3Amar.txt                                                    \b\b\b\b 34%\b\b\b\b 35%\b\b\b\b 36%\b\b\b\b\b  OK \n",
            "Extracting  3Apie.txt                                                    \b\b\b\b 36%\b\b\b\b 37%\b\b\b\b\b  OK \n",
            "Extracting  3Asen.txt                                                    \b\b\b\b 37%\b\b\b\b 38%\b\b\b\b\b  OK \n",
            "Extracting  4Amar.txt                                                    \b\b\b\b 38%\b\b\b\b 39%\b\b\b\b 40%\b\b\b\b 41%\b\b\b\b\b  OK \n",
            "Extracting  4Apie.txt                                                    \b\b\b\b 42%\b\b\b\b 43%\b\b\b\b\b  OK \n",
            "Extracting  4Asen.txt                                                    \b\b\b\b 43%\b\b\b\b 44%\b\b\b\b 45%\b\b\b\b\b  OK \n",
            "Extracting  5Amar.txt                                                    \b\b\b\b 45%\b\b\b\b 46%\b\b\b\b 47%\b\b\b\b\b  OK \n",
            "Extracting  5Apie.txt                                                    \b\b\b\b 47%\b\b\b\b 48%\b\b\b\b\b  OK \n",
            "Extracting  5Asen.txt                                                    \b\b\b\b 48%\b\b\b\b 49%\b\b\b\b\b  OK \n",
            "Extracting  6Amar.txt                                                    \b\b\b\b 49%\b\b\b\b 50%\b\b\b\b 51%\b\b\b\b 52%\b\b\b\b\b  OK \n",
            "Extracting  6Apie.txt                                                    \b\b\b\b 52%\b\b\b\b 53%\b\b\b\b 54%\b\b\b\b\b  OK \n",
            "Extracting  6Asen.txt                                                    \b\b\b\b 55%\b\b\b\b 56%\b\b\b\b 57%\b\b\b\b 58%\b\b\b\b\b  OK \n",
            "Extracting  7Amar.txt                                                    \b\b\b\b 58%\b\b\b\b 59%\b\b\b\b\b  OK \n",
            "Extracting  7Apie.txt                                                    \b\b\b\b 59%\b\b\b\b 60%\b\b\b\b\b  OK \n",
            "Extracting  7Asen.txt                                                    \b\b\b\b 60%\b\b\b\b\b  OK \n",
            "Extracting  8Amar.txt                                                    \b\b\b\b 61%\b\b\b\b\b  OK \n",
            "Extracting  8Apie.txt                                                    \b\b\b\b 61%\b\b\b\b 62%\b\b\b\b\b  OK \n",
            "Extracting  8Asen.txt                                                    \b\b\b\b 62%\b\b\b\b\b  OK \n",
            "Extracting  9Amar.txt                                                    \b\b\b\b 63%\b\b\b\b 64%\b\b\b\b\b  OK \n",
            "Extracting  9Apie.txt                                                    \b\b\b\b 64%\b\b\b\b 65%\b\b\b\b\b  OK \n",
            "Extracting  9Asen.txt                                                    \b\b\b\b 65%\b\b\b\b 66%\b\b\b\b\b  OK \n",
            "Extracting  10Nmar.log                                                   \b\b\b\b 66%\b\b\b\b\b  OK \n",
            "Extracting  10Npie.log                                                   \b\b\b\b 66%\b\b\b\b 67%\b\b\b\b\b  OK \n",
            "Extracting  10Nsen.log                                                   \b\b\b\b 67%\b\b\b\b\b  OK \n",
            "Extracting  11Nmar.log                                                   \b\b\b\b 68%\b\b\b\b\b  OK \n",
            "Extracting  11Npie.log                                                   \b\b\b\b 68%\b\b\b\b\b  OK \n",
            "Extracting  11Nsen.log                                                   \b\b\b\b 68%\b\b\b\b\b  OK \n",
            "Extracting  1Nmar.log                                                    \b\b\b\b 68%\b\b\b\b\b  OK \n",
            "Extracting  1Npie.log                                                    \b\b\b\b 69%\b\b\b\b\b  OK \n",
            "Extracting  1Nsen.log                                                    \b\b\b\b 69%\b\b\b\b\b  OK \n",
            "Extracting  2Nmar.log                                                    \b\b\b\b 69%\b\b\b\b\b  OK \n",
            "Extracting  2Npie.log                                                    \b\b\b\b 70%\b\b\b\b\b  OK \n",
            "Extracting  2Nsen.log                                                    \b\b\b\b 70%\b\b\b\b\b  OK \n",
            "Extracting  3Nmar.log                                                    \b\b\b\b 70%\b\b\b\b\b  OK \n",
            "Extracting  3Npie.log                                                    \b\b\b\b 70%\b\b\b\b\b  OK \n",
            "Extracting  3Nsen.log                                                    \b\b\b\b 71%\b\b\b\b\b  OK \n",
            "Extracting  4Nmar.log                                                    \b\b\b\b 71%\b\b\b\b\b  OK \n",
            "Extracting  4Npie.log                                                    \b\b\b\b 71%\b\b\b\b\b  OK \n",
            "Extracting  4Nsen.log                                                    \b\b\b\b 71%\b\b\b\b 72%\b\b\b\b\b  OK \n",
            "Extracting  5Nmar.log                                                    \b\b\b\b 72%\b\b\b\b\b  OK \n",
            "Extracting  5Npie.log                                                    \b\b\b\b 72%\b\b\b\b\b  OK \n",
            "Extracting  5Nsen.log                                                    \b\b\b\b 72%\b\b\b\b\b  OK \n",
            "Extracting  6Nmar.log                                                    \b\b\b\b 73%\b\b\b\b\b  OK \n",
            "Extracting  6Npie.log                                                    \b\b\b\b 73%\b\b\b\b\b  OK \n",
            "Extracting  6Nsen.log                                                    \b\b\b\b 73%\b\b\b\b\b  OK \n",
            "Extracting  7Nmar.log                                                    \b\b\b\b 74%\b\b\b\b\b  OK \n",
            "Extracting  7Npie.log                                                    \b\b\b\b 74%\b\b\b\b\b  OK \n",
            "Extracting  7Nsen.log                                                    \b\b\b\b 74%\b\b\b\b\b  OK \n",
            "Extracting  8Nmar.log                                                    \b\b\b\b 75%\b\b\b\b\b  OK \n",
            "Extracting  8Npie.log                                                    \b\b\b\b 75%\b\b\b\b\b  OK \n",
            "Extracting  8Nsen.log                                                    \b\b\b\b 75%\b\b\b\b 76%\b\b\b\b\b  OK \n",
            "Extracting  9Nmar.log                                                    \b\b\b\b 76%\b\b\b\b\b  OK \n",
            "Extracting  9Npie.log                                                    \b\b\b\b 76%\b\b\b\b\b  OK \n",
            "Extracting  9Nsen.log                                                    \b\b\b\b 76%\b\b\b\b 77%\b\b\b\b\b  OK \n",
            "Extracting  10Nmar.txt                                                   \b\b\b\b 77%\b\b\b\b\b  OK \n",
            "Extracting  10Npie.txt                                                   \b\b\b\b 77%\b\b\b\b 78%\b\b\b\b 79%\b\b\b\b\b  OK \n",
            "Extracting  10Nsen.txt                                                   \b\b\b\b 79%\b\b\b\b 80%\b\b\b\b\b  OK \n",
            "Extracting  11Nmar.txt                                                   \b\b\b\b 80%\b\b\b\b\b  OK \n",
            "Extracting  11Npie.txt                                                   \b\b\b\b 81%\b\b\b\b\b  OK \n",
            "Extracting  11Nsen.txt                                                   \b\b\b\b 81%\b\b\b\b 82%\b\b\b\b\b  OK \n",
            "Extracting  1Nmar.txt                                                    \b\b\b\b 82%\b\b\b\b\b  OK \n",
            "Extracting  1Npie.txt                                                    \b\b\b\b 82%\b\b\b\b 83%\b\b\b\b\b  OK \n",
            "Extracting  1Nsen.txt                                                    \b\b\b\b 83%\b\b\b\b\b  OK \n",
            "Extracting  2Nmar.txt                                                    \b\b\b\b 84%\b\b\b\b\b  OK \n",
            "Extracting  2Npie.txt                                                    \b\b\b\b 84%\b\b\b\b 85%\b\b\b\b\b  OK \n",
            "Extracting  2Nsen.txt                                                    \b\b\b\b 85%\b\b\b\b\b  OK \n",
            "Extracting  3Nmar.txt                                                    \b\b\b\b 85%\b\b\b\b 86%\b\b\b\b\b  OK \n",
            "Extracting  3Npie.txt                                                    \b\b\b\b 86%\b\b\b\b\b  OK \n",
            "Extracting  3Nsen.txt                                                    \b\b\b\b 86%\b\b\b\b 87%\b\b\b\b\b  OK \n",
            "Extracting  4Nmar.txt                                                    \b\b\b\b 87%\b\b\b\b\b  OK \n",
            "Extracting  4Npie.txt                                                    \b\b\b\b 87%\b\b\b\b 88%\b\b\b\b\b  OK \n",
            "Extracting  4Nsen.txt                                                    \b\b\b\b 88%\b\b\b\b\b  OK \n",
            "Extracting  5Nmar.txt                                                    \b\b\b\b 89%\b\b\b\b\b  OK \n",
            "Extracting  5Npie.txt                                                    \b\b\b\b 89%\b\b\b\b 90%\b\b\b\b\b  OK \n",
            "Extracting  5Nsen.txt                                                    \b\b\b\b 90%\b\b\b\b\b  OK \n",
            "Extracting  6Nmar.txt                                                    \b\b\b\b 90%\b\b\b\b 91%\b\b\b\b\b  OK \n",
            "Extracting  6Npie.txt                                                    \b\b\b\b 91%\b\b\b\b\b  OK \n",
            "Extracting  6Nsen.txt                                                    \b\b\b\b 92%\b\b\b\b\b  OK \n",
            "Extracting  7Nmar.txt                                                    \b\b\b\b 92%\b\b\b\b 93%\b\b\b\b\b  OK \n",
            "Extracting  7Npie.txt                                                    \b\b\b\b 93%\b\b\b\b\b  OK \n",
            "Extracting  7Nsen.txt                                                    \b\b\b\b 94%\b\b\b\b 95%\b\b\b\b\b  OK \n",
            "Extracting  8Nmar.txt                                                    \b\b\b\b 95%\b\b\b\b\b  OK \n",
            "Extracting  8Npie.txt                                                    \b\b\b\b 95%\b\b\b\b 96%\b\b\b\b\b  OK \n",
            "Extracting  8Nsen.txt                                                    \b\b\b\b 96%\b\b\b\b 97%\b\b\b\b\b  OK \n",
            "Extracting  9Nmar.txt                                                    \b\b\b\b 97%\b\b\b\b\b  OK \n",
            "Extracting  9Npie.txt                                                    \b\b\b\b 98%\b\b\b\b\b  OK \n",
            "Extracting  9Nsen.txt                                                    \b\b\b\b 99%\b\b\b\b\b  OK \n",
            "Extracting  Base de datos EMG SP (spanish).docx                          \b\b\b\b 99%\b\b\b\b\b  OK \n",
            "Extracting  Base de datos EMG US (english).docx                          \b\b\b\b 99%\b\b\b\b\b  OK \n",
            "Extracting  BDSEMG_eng.txt                                               \b\b\b\b 99%\b\b\b\b\b  OK \n",
            "All OK\n"
          ]
        }
      ],
      "source": [
        "!unrar e  SEMG_DB1.rar"
      ]
    },
    {
      "cell_type": "code",
      "execution_count": 4,
      "metadata": {
        "id": "bl1unw63VrLx"
      },
      "outputs": [],
      "source": [
        "!mkdir data"
      ]
    },
    {
      "cell_type": "code",
      "execution_count": 5,
      "metadata": {
        "id": "qP7Uk89qWDVz"
      },
      "outputs": [],
      "source": [
        "!mkdir data/A\n",
        "!mkdir data/N"
      ]
    },
    {
      "cell_type": "code",
      "execution_count": 6,
      "metadata": {
        "id": "kQXMOOd4WPpM"
      },
      "outputs": [],
      "source": [
        "!mv [1-9]A*.txt data/A\n",
        "!mv [1-9]N*.txt data/N"
      ]
    },
    {
      "cell_type": "code",
      "execution_count": 7,
      "metadata": {
        "id": "t0pmcEMlXMgM"
      },
      "outputs": [],
      "source": [
        "!mv 1[0-9]A*.txt data/A\n",
        "!mv 1[0-9]N*.txt data/N"
      ]
    },
    {
      "cell_type": "code",
      "execution_count": 8,
      "metadata": {
        "colab": {
          "base_uri": "https://localhost:8080/"
        },
        "id": "bRt0Bdv1Xj2T",
        "outputId": "473c6be7-1824-42b6-dd73-1a5d9594d6a2"
      },
      "outputs": [
        {
          "name": "stdout",
          "output_type": "stream",
          "text": [
            "10Amar.txt  11Asen.txt\t2Apie.txt  4Amar.txt  5Asen.txt  7Apie.txt  9Amar.txt\n",
            "10Apie.txt  1Amar.txt\t2Asen.txt  4Apie.txt  6Amar.txt  7Asen.txt  9Apie.txt\n",
            "10Asen.txt  1Apie.txt\t3Amar.txt  4Asen.txt  6Apie.txt  8Amar.txt  9Asen.txt\n",
            "11Amar.txt  1Asen.txt\t3Apie.txt  5Amar.txt  6Asen.txt  8Apie.txt\n",
            "11Apie.txt  2Amar.txt\t3Asen.txt  5Apie.txt  7Amar.txt  8Asen.txt\n"
          ]
        }
      ],
      "source": [
        "!ls data/A"
      ]
    },
    {
      "cell_type": "code",
      "execution_count": 9,
      "metadata": {
        "colab": {
          "base_uri": "https://localhost:8080/"
        },
        "id": "y2sW4aL4Xk1S",
        "outputId": "e7b8a603-f611-4a4b-d69f-78780b3e9161"
      },
      "outputs": [
        {
          "name": "stdout",
          "output_type": "stream",
          "text": [
            "10Nmar.txt  11Nsen.txt\t2Npie.txt  4Nmar.txt  5Nsen.txt  7Npie.txt  9Nmar.txt\n",
            "10Npie.txt  1Nmar.txt\t2Nsen.txt  4Npie.txt  6Nmar.txt  7Nsen.txt  9Npie.txt\n",
            "10Nsen.txt  1Npie.txt\t3Nmar.txt  4Nsen.txt  6Npie.txt  8Nmar.txt  9Nsen.txt\n",
            "11Nmar.txt  1Nsen.txt\t3Npie.txt  5Nmar.txt  6Nsen.txt  8Npie.txt\n",
            "11Npie.txt  2Nmar.txt\t3Nsen.txt  5Npie.txt  7Nmar.txt  8Nsen.txt\n"
          ]
        }
      ],
      "source": [
        "!ls data/N"
      ]
    },
    {
      "cell_type": "code",
      "execution_count": 10,
      "metadata": {
        "id": "KMozL5n3nqC6"
      },
      "outputs": [],
      "source": [
        "def read_folder(path): \n",
        "  folder_con = []\n",
        "  file_name = []\n",
        "  n = 1\n",
        "  for file in os.listdir(path):\n",
        "      if file.endswith(\".txt\"):\n",
        "          file_path = f\"{path}/{file}\"\n",
        "          df = pd.read_csv(file_path, sep='\\t', skiprows=list(range(7)), header=None).dropna()\n",
        "          \n",
        "          if len(df.columns) == 6:\n",
        "            df.drop(columns=df.columns[-2:], axis=1, inplace=True)\n",
        "          if len(df.columns) == 5:\n",
        "            df.drop(columns=df.columns[-1:], axis=1, inplace=True)\n",
        "          \n",
        "          folder_con.append(df)\n",
        "          file_name.append(file_path)\n",
        "          n = n + 1\n",
        "          \n",
        "  return folder_con, file_name"
      ]
    },
    {
      "cell_type": "code",
      "execution_count": 11,
      "metadata": {
        "id": "LZBrKdECpksh"
      },
      "outputs": [],
      "source": [
        "A_folder_con, A_name = read_folder('data/A')\n",
        "N_folder_con, N_name = read_folder('data/N')"
      ]
    },
    {
      "cell_type": "code",
      "execution_count": 12,
      "metadata": {
        "id": "VRdvgjSr48i3"
      },
      "outputs": [],
      "source": [
        "A_final_data = pd.concat(A_folder_con, ignore_index=True)\n",
        "N_final_data = pd.concat(N_folder_con, ignore_index=True)"
      ]
    },
    {
      "cell_type": "code",
      "execution_count": 13,
      "metadata": {
        "id": "gVd-iyNLMxGi"
      },
      "outputs": [],
      "source": [
        "A_torch_data = torch.tensor(A_final_data.values)\n",
        "N_torch_data = torch.tensor(N_final_data.values)"
      ]
    },
    {
      "cell_type": "code",
      "execution_count": 14,
      "metadata": {
        "id": "hSTrFIvENhOw"
      },
      "outputs": [],
      "source": [
        "def image_creator(data, label, wid_len=256, stride=128):\n",
        "  i = 0\n",
        "  num = 0\n",
        "  img_list = []\n",
        "  while True:\n",
        "    img = data[i: i+wid_len]\n",
        "    i = i + stride\n",
        "    num = num + 1 \n",
        "    new = []\n",
        "    new.append(img.reshape(1, wid_len, 4))\n",
        "    new.append(label)\n",
        "    img_list.append(new)\n",
        "    if num == int(((len(data) - wid_len) / stride + 1)):\n",
        "      break\n",
        "  return img_list\n",
        "  "
      ]
    },
    {
      "cell_type": "code",
      "execution_count": 15,
      "metadata": {
        "id": "s9E_IUINRcKn"
      },
      "outputs": [],
      "source": [
        "N_list = image_creator(N_torch_data, label=0, wid_len=256, stride=128)\n",
        "A_list = image_creator(A_torch_data, label=1, wid_len=256, stride=128)\n",
        "data = A_list + N_list"
      ]
    },
    {
      "cell_type": "code",
      "execution_count": 16,
      "metadata": {
        "id": "wmpebSREgCXd"
      },
      "outputs": [],
      "source": [
        "class MyDataset(Dataset):\n",
        "    def __init__(self, data, transform=None):\n",
        "        self.data_frame = data\n",
        "        self.transform = transform\n",
        "\n",
        "    def __len__(self):\n",
        "        return len(self.data_frame)\n",
        "\n",
        "    def __getitem__(self, idx):\n",
        "        if torch.is_tensor(idx):\n",
        "            idx = idx.tolist()\n",
        "        image = self.data_frame[idx][0]\n",
        "        label = self.data_frame[idx][1]\n",
        "        \n",
        "        if self.transform:\n",
        "            image = self.transform(image)\n",
        "\n",
        "        return image, label"
      ]
    },
    {
      "cell_type": "code",
      "execution_count": 17,
      "metadata": {
        "colab": {
          "base_uri": "https://localhost:8080/",
          "height": 406
        },
        "id": "xa47o67XgaTl",
        "outputId": "a64940c0-53e5-44e4-dd50-0884a43327f9"
      },
      "outputs": [
        {
          "data": {
            "image/png": "[encoded data removed]",
            "text/plain": [
              "<Figure size 640x480 with 1 Axes>"
            ]
          },
          "metadata": {},
          "output_type": "display_data"
        }
      ],
      "source": [
        "plt.imshow(data[0][0].squeeze(), cmap=\"gray\")\n",
        "plt.axis(False)\n",
        "plt.show()"
      ]
    },
    {
      "cell_type": "code",
      "execution_count": 18,
      "metadata": {
        "id": "FR3GvcHBjnJJ"
      },
      "outputs": [],
      "source": [
        "train, test = train_test_split(data, test_size=0.33, shuffle=True)"
      ]
    },
    {
      "cell_type": "code",
      "execution_count": 19,
      "metadata": {
        "id": "ienZNdxfkNlg"
      },
      "outputs": [],
      "source": [
        "train_dataset = MyDataset(train)\n",
        "test_dataset = MyDataset(test)\n",
        "\n",
        "\n",
        "# Data loader\n",
        "batch_size = 256\n",
        "train_loader = torch.utils.data.DataLoader(dataset=train_dataset,\n",
        "                                           batch_size=batch_size, \n",
        "                                           shuffle=True)\n",
        "\n",
        "\n",
        "test_loader = torch.utils.data.DataLoader(dataset=test_dataset,\n",
        "                                          batch_size=batch_size,\n",
        "                                          shuffle=False)\n"
      ]
    },
    {
      "cell_type": "markdown",
      "metadata": {
        "id": "u2dXxo1PXL4C"
      },
      "source": [
        "# Network Implementation"
      ]
    },
    {
      "cell_type": "code",
      "execution_count": 20,
      "metadata": {
        "id": "1VIE4ToukbuO"
      },
      "outputs": [],
      "source": [
        "class My_Net(nn.Module):\n",
        "  def __init__(self, K=2):\n",
        "    super(My_Net, self).__init__()\n",
        "\n",
        "    self.conv1 = nn.Sequential(\n",
        "        nn.Conv2d(1, 64, kernel_size=(3, 3), stride=(1, 1), padding='same'),\n",
        "        nn.ReLU(),\n",
        "        nn.MaxPool2d((2, 2), stride=1),\n",
        "        )\n",
        "    self.conv2 = nn.Sequential(\n",
        "        nn.Conv2d(64, 128, kernel_size=(3, 3), stride=(1, 1), padding='same'),\n",
        "        nn.ReLU(),\n",
        "        nn.MaxPool2d((2, 2), stride=(1, 1)),\n",
        "    )\n",
        "    self.conv3 = nn.Sequential(\n",
        "        nn.Conv2d(128, 256, kernel_size=(3, 3), stride=(1, 1), padding='same'),\n",
        "        nn.ReLU(),\n",
        "        nn.MaxPool2d((2, 2), stride=(1, 1)),\n",
        "    )\n",
        "\n",
        "\n",
        "    self.fc1 = nn.Sequential(\n",
        "        nn.Linear(256 * 253 * 1, K),\n",
        "        nn.Sigmoid()\n",
        "    )\n",
        "\n",
        "  def forward(self, x):\n",
        "    x = self.conv1(x)\n",
        "    x = self.conv2(x)\n",
        "    x = self.conv3(x)\n",
        "    x = x.view(-1, 256 * 253 * 1)\n",
        "    x = self.fc1(x)\n",
        "    return x\n",
        "\n",
        "  "
      ]
    },
    {
      "cell_type": "code",
      "execution_count": 21,
      "metadata": {
        "id": "VB3ULj-LwZPF"
      },
      "outputs": [],
      "source": [
        "model = My_Net(K=2)\n"
      ]
    },
    {
      "cell_type": "code",
      "execution_count": 22,
      "metadata": {
        "colab": {
          "base_uri": "https://localhost:8080/"
        },
        "id": "0knNO9lu8IJI",
        "outputId": "6aaea6ef-b0e9-44e2-8a26-d43aad44c982"
      },
      "outputs": [
        {
          "name": "stdout",
          "output_type": "stream",
          "text": [
            "cuda:0\n"
          ]
        },
        {
          "data": {
            "text/plain": [
              "My_Net(\n",
              "  (conv1): Sequential(\n",
              "    (0): Conv2d(1, 64, kernel_size=(3, 3), stride=(1, 1), padding=same)\n",
              "    (1): ReLU()\n",
              "    (2): MaxPool2d(kernel_size=(2, 2), stride=1, padding=0, dilation=1, ceil_mode=False)\n",
              "  )\n",
              "  (conv2): Sequential(\n",
              "    (0): Conv2d(64, 128, kernel_size=(3, 3), stride=(1, 1), padding=same)\n",
              "    (1): ReLU()\n",
              "    (2): MaxPool2d(kernel_size=(2, 2), stride=(1, 1), padding=0, dilation=1, ceil_mode=False)\n",
              "  )\n",
              "  (conv3): Sequential(\n",
              "    (0): Conv2d(128, 256, kernel_size=(3, 3), stride=(1, 1), padding=same)\n",
              "    (1): ReLU()\n",
              "    (2): MaxPool2d(kernel_size=(2, 2), stride=(1, 1), padding=0, dilation=1, ceil_mode=False)\n",
              "  )\n",
              "  (fc1): Sequential(\n",
              "    (0): Linear(in_features=64768, out_features=2, bias=True)\n",
              "    (1): Sigmoid()\n",
              "  )\n",
              ")"
            ]
          },
          "execution_count": 22,
          "metadata": {},
          "output_type": "execute_result"
        }
      ],
      "source": [
        "device = torch.device(\"cuda:0\" if torch.cuda.is_available() else \"cpu\")\n",
        "print(device)\n",
        "model.to(device)"
      ]
    },
    {
      "cell_type": "code",
      "execution_count": 23,
      "metadata": {
        "colab": {
          "base_uri": "https://localhost:8080/"
        },
        "id": "zTjTTf7RW0q5",
        "outputId": "034096f0-b830-4ef6-9ccf-ccce26b5f618"
      },
      "outputs": [
        {
          "name": "stdout",
          "output_type": "stream",
          "text": [
            "----------------------------------------------------------------\n",
            "        Layer (type)               Output Shape         Param #\n",
            "================================================================\n",
            "            Conv2d-1           [-1, 64, 256, 4]             640\n",
            "              ReLU-2           [-1, 64, 256, 4]               0\n",
            "         MaxPool2d-3           [-1, 64, 255, 3]               0\n",
            "            Conv2d-4          [-1, 128, 255, 3]          73,856\n",
            "              ReLU-5          [-1, 128, 255, 3]               0\n",
            "         MaxPool2d-6          [-1, 128, 254, 2]               0\n",
            "            Conv2d-7          [-1, 256, 254, 2]         295,168\n",
            "              ReLU-8          [-1, 256, 254, 2]               0\n",
            "         MaxPool2d-9          [-1, 256, 253, 1]               0\n",
            "           Linear-10                    [-1, 2]         129,538\n",
            "          Sigmoid-11                    [-1, 2]               0\n",
            "================================================================\n",
            "Total params: 499,202\n",
            "Trainable params: 499,202\n",
            "Non-trainable params: 0\n",
            "----------------------------------------------------------------\n",
            "Input size (MB): 0.00\n",
            "Forward/backward pass size (MB): 5.84\n",
            "Params size (MB): 1.90\n",
            "Estimated Total Size (MB): 7.75\n",
            "----------------------------------------------------------------\n"
          ]
        }
      ],
      "source": [
        "from torchsummary import summary\n",
        "summary(model, (1, 256, 4))"
      ]
    },
    {
      "cell_type": "code",
      "execution_count": 24,
      "metadata": {
        "colab": {
          "base_uri": "https://localhost:8080/"
        },
        "id": "WBlI7bIGW1ex",
        "outputId": "e2986405-f172-45d2-ec7b-0a8e106fbe13"
      },
      "outputs": [
        {
          "data": {
            "text/plain": [
              "My_Net(\n",
              "  (conv1): Sequential(\n",
              "    (0): Conv2d(1, 64, kernel_size=(3, 3), stride=(1, 1), padding=same)\n",
              "    (1): ReLU()\n",
              "    (2): MaxPool2d(kernel_size=(2, 2), stride=1, padding=0, dilation=1, ceil_mode=False)\n",
              "  )\n",
              "  (conv2): Sequential(\n",
              "    (0): Conv2d(64, 128, kernel_size=(3, 3), stride=(1, 1), padding=same)\n",
              "    (1): ReLU()\n",
              "    (2): MaxPool2d(kernel_size=(2, 2), stride=(1, 1), padding=0, dilation=1, ceil_mode=False)\n",
              "  )\n",
              "  (conv3): Sequential(\n",
              "    (0): Conv2d(128, 256, kernel_size=(3, 3), stride=(1, 1), padding=same)\n",
              "    (1): ReLU()\n",
              "    (2): MaxPool2d(kernel_size=(2, 2), stride=(1, 1), padding=0, dilation=1, ceil_mode=False)\n",
              "  )\n",
              "  (fc1): Sequential(\n",
              "    (0): Linear(in_features=64768, out_features=2, bias=True)\n",
              "    (1): Sigmoid()\n",
              "  )\n",
              ")"
            ]
          },
          "execution_count": 24,
          "metadata": {},
          "output_type": "execute_result"
        }
      ],
      "source": [
        "model.double()"
      ]
    },
    {
      "cell_type": "markdown",
      "metadata": {
        "id": "pi-NwgtNXaoK"
      },
      "source": [
        "# Model Train and Resualts"
      ]
    },
    {
      "cell_type": "code",
      "execution_count": 25,
      "metadata": {
        "id": "q582v8638OEN"
      },
      "outputs": [],
      "source": [
        "criterion = nn.CrossEntropyLoss()\n",
        "optimizer = torch.optim.Adam(model.parameters(), lr=1e-4, weight_decay=1e-5)    #L2 Regularization"
      ]
    },
    {
      "cell_type": "code",
      "execution_count": 26,
      "metadata": {
        "id": "CW1HQqge8Q0s"
      },
      "outputs": [],
      "source": [
        "def batch_gd(model, criterion, optimizer, train_loader, test_loader, epochs):\n",
        "  train_losses = np.zeros(epochs)\n",
        "  train_accs = np.zeros(epochs)\n",
        "  test_losses = np.zeros(epochs)\n",
        "  test_accs = np.zeros(epochs)\n",
        "\n",
        "  for it in range(epochs):\n",
        "    n_correct = 0.\n",
        "    n_total = 0.\n",
        "    model.train()\n",
        "    t0 = datetime.now()\n",
        "    train_loss = []\n",
        "    for inputs, targets in train_loader:\n",
        "      inputs, targets = inputs.to(device), targets.to(device)\n",
        "      optimizer.zero_grad()\n",
        "      outputs = model(inputs)\n",
        "      loss = criterion(outputs, targets)\n",
        "      loss.backward()\n",
        "      optimizer.step()\n",
        "      train_loss.append(loss.item())\n",
        "      _, predictions = torch.max(outputs, 1)\n",
        "      n_correct += (predictions == targets).sum().item()\n",
        "      n_total += targets.shape[0]\n",
        "\n",
        "    train_acc = n_correct / n_total\n",
        "    train_loss = np.mean(train_loss)\n",
        "\n",
        "    model.eval()\n",
        "    with torch.no_grad():\n",
        "      test_loss = []\n",
        "      n_correct = 0.\n",
        "      n_total = 0.\n",
        "      for inputs, targets in test_loader:\n",
        "        inputs, targets = inputs.to(device), targets.to(device)\n",
        "        outputs = model(inputs)\n",
        "        loss = criterion(outputs, targets)\n",
        "        test_loss.append(loss.item())\n",
        "        _, predictions = torch.max(outputs, 1)\n",
        "        n_correct += (predictions == targets).sum().item()\n",
        "        n_total += targets.shape[0]\n",
        "\n",
        "      test_loss = np.mean(test_loss)\n",
        "      test_acc = n_correct / n_total\n",
        "\n",
        "      train_losses[it] = train_loss\n",
        "      test_losses[it] = test_loss\n",
        "      train_accs[it] = train_acc\n",
        "      test_accs[it] = test_acc\n",
        "\n",
        "\n",
        "      dt = datetime.now() - t0\n",
        "      print(f\"Epoch {it+1}/{epochs}, Train Loss: {train_loss:.4f}, \\\n",
        "      Test Loss: {test_loss:.4f}, Duration:{dt}\")\n",
        "\n",
        "  return train_losses, test_losses, train_accs, test_accs\n",
        "\n"
      ]
    },
    {
      "cell_type": "code",
      "execution_count": 27,
      "metadata": {
        "colab": {
          "base_uri": "https://localhost:8080/"
        },
        "id": "W1fwuGBB8WKP",
        "outputId": "110144d0-a334-42c9-a429-01d854d66442"
      },
      "outputs": [
        {
          "name": "stdout",
          "output_type": "stream",
          "text": [
            "Epoch 1/5, Train Loss: 0.6523,       Test Loss: 0.6480, Duration:0:01:10.242986\n",
            "Epoch 2/5, Train Loss: 0.6431,       Test Loss: 0.6427, Duration:0:01:10.499778\n",
            "Epoch 3/5, Train Loss: 0.6370,       Test Loss: 0.6360, Duration:0:01:10.384016\n",
            "Epoch 4/5, Train Loss: 0.6308,       Test Loss: 0.6363, Duration:0:01:10.364622\n",
            "Epoch 5/5, Train Loss: 0.6318,       Test Loss: 0.6354, Duration:0:01:10.306652\n"
          ]
        }
      ],
      "source": [
        "train_losses, test_losses, train_accs, test_accs = batch_gd(\n",
        "    model, criterion, optimizer, train_loader, test_loader, epochs=10\n",
        ")"
      ]
    },
    {
      "cell_type": "code",
      "execution_count": 28,
      "metadata": {
        "colab": {
          "base_uri": "https://localhost:8080/",
          "height": 430
        },
        "id": "-14DxSsqDooL",
        "outputId": "fc3d02e8-18db-4fc9-98e1-1c83ed41b0dc"
      },
      "outputs": [
        {
          "data": {
            "image/png": "[encoded data removed]",
            "text/plain": [
              "<Figure size 640x480 with 1 Axes>"
            ]
          },
          "metadata": {},
          "output_type": "display_data"
        }
      ],
      "source": [
        "plt.plot(train_losses, label='train loss')\n",
        "plt.plot(test_losses, label='test loss')\n",
        "plt.legend()\n",
        "plt.show()"
      ]
    },
    {
      "cell_type": "code",
      "execution_count": 29,
      "metadata": {
        "colab": {
          "base_uri": "https://localhost:8080/"
        },
        "id": "cTn7LZ8N5p38",
        "outputId": "01bc7206-321a-43e4-8503-b34e2a5aa31b"
      },
      "outputs": [
        {
          "name": "stdout",
          "output_type": "stream",
          "text": [
            "Train acc: 0.6439, Test acc: 0.6379\n"
          ]
        }
      ],
      "source": [
        "model.eval()\n",
        "with torch.no_grad():\n",
        "  n_correct = 0.\n",
        "  n_total = 0.\n",
        "  for inputs, targets in train_loader:\n",
        "    inputs, targets = inputs.to(device), targets.to(device)\n",
        "    outputs = model(inputs)\n",
        "    _, predictions = torch.max(outputs, 1)\n",
        "    n_correct += (predictions == targets).sum().item()\n",
        "    n_total += targets.shape[0]\n",
        "\n",
        "  train_acc = n_correct / n_total\n",
        "\n",
        "  n_correct = 0.\n",
        "  n_total = 0.\n",
        "  for inputs, targets in test_loader:\n",
        "    inputs, targets = inputs.to(device), targets.to(device)\n",
        "    outputs = model(inputs)\n",
        "    _, predictions = torch.max(outputs, 1)\n",
        "    n_correct += (predictions == targets).sum().item()\n",
        "    n_total += targets.shape[0]\n",
        "\n",
        "  test_acc = n_correct / n_total\n",
        "  print(f\"Train acc: {train_acc:.4f}, Test acc: {test_acc:.4f}\")"
      ]
    },
    {
      "cell_type": "code",
      "execution_count": 30,
      "metadata": {
        "colab": {
          "base_uri": "https://localhost:8080/",
          "height": 430
        },
        "id": "kUFaNatB5uEd",
        "outputId": "a77d725a-1bb0-40ac-c14c-2d8bd95bf655"
      },
      "outputs": [
        {
          "data": {
            "image/png": "[encoded data removed]",
            "text/plain": [
              "<Figure size 640x480 with 1 Axes>"
            ]
          },
          "metadata": {},
          "output_type": "display_data"
        }
      ],
      "source": [
        "plt.plot(train_accs, label='train accuracy')\n",
        "plt.plot(test_accs, label='test accuracy')\n",
        "plt.legend()\n",
        "plt.show()"
      ]
    }
  ],
  "metadata": {
    "accelerator": "GPU",
    "colab": {
      "gpuType": "T4",
      "provenance": []
    },
    "gpuClass": "standard",
    "kernelspec": {
      "display_name": "Python 3",
      "name": "python3"
    },
    "language_info": {
      "name": "python"
    }
  },
  "nbformat": 4,
  "nbformat_minor": 0
}

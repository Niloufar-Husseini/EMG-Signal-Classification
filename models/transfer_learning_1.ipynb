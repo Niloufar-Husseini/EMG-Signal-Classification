{
  "cells": [
    {
      "cell_type": "markdown",
      "metadata": {
        "id": "FSQkJCq79qdf"
      },
      "source": [
        "# Imports"
      ]
    },
    {
      "cell_type": "code",
      "execution_count": null,
      "metadata": {
        "id": "_J3NYDRS9t2_"
      },
      "outputs": [],
      "source": [
        "import torch\n",
        "import torch.nn as nn\n",
        "from google.colab import drive\n",
        "from torchvision import models, transforms, datasets\n",
        "import sys, os\n",
        "import pandas as pd\n",
        "from sklearn.model_selection import train_test_split\n",
        "from torch.utils.data import Dataset, DataLoader\n",
        "import numpy as np\n",
        "from datetime import datetime\n",
        "import matplotlib.pyplot as plt"
      ]
    },
    {
      "cell_type": "code",
      "execution_count": null,
      "metadata": {
        "colab": {
          "base_uri": "https://localhost:8080/"
        },
        "id": "F85uO5vKxcKH",
        "outputId": "7bcde55e-72cf-4eb5-a676-617ad99e30a0"
      },
      "outputs": [
        {
          "name": "stdout",
          "output_type": "stream",
          "text": [
            "Drive already mounted at /content/drive; to attempt to forcibly remount, call drive.mount(\"/content/drive\", force_remount=True).\n"
          ]
        }
      ],
      "source": [
        "dir = \"/content/drive/MyDrive/SRC_HW2_E3/Encoder.pth\"\n",
        "drive.mount(\"/content/drive\")"
      ]
    },
    {
      "cell_type": "code",
      "execution_count": null,
      "metadata": {
        "colab": {
          "base_uri": "https://localhost:8080/"
        },
        "id": "4Tg439pWzcSg",
        "outputId": "f8ec28e4-3fb2-4065-9574-91dfff26c786"
      },
      "outputs": [
        {
          "data": {
            "text/plain": [
              "device(type='cpu')"
            ]
          },
          "execution_count": 30,
          "metadata": {},
          "output_type": "execute_result"
        }
      ],
      "source": [
        "device = torch.device('cuda' if torch.cuda.is_available() else 'cpu')\n",
        "device"
      ]
    },
    {
      "cell_type": "code",
      "execution_count": null,
      "metadata": {
        "colab": {
          "base_uri": "https://localhost:8080/"
        },
        "id": "t2a9iERuzCXw",
        "outputId": "4be4ca64-8cb9-4aff-92f1-ad25b94b1b1e"
      },
      "outputs": [
        {
          "data": {
            "text/plain": [
              "Encoder(\n",
              "  (encoder): Sequential(\n",
              "    (0): Conv2d(1, 32, kernel_size=(3, 3), stride=(1, 1), padding=(1, 1))\n",
              "    (1): LeakyReLU(negative_slope=0.01)\n",
              "    (2): Conv2d(32, 64, kernel_size=(3, 3), stride=(2, 2), padding=(1, 1))\n",
              "    (3): LeakyReLU(negative_slope=0.01)\n",
              "    (4): Conv2d(64, 64, kernel_size=(3, 3), stride=(2, 2), padding=(1, 1))\n",
              "    (5): Flatten(start_dim=1, end_dim=-1)\n",
              "    (6): Linear(in_features=4096, out_features=2, bias=True)\n",
              "  )\n",
              ")"
            ]
          },
          "execution_count": 31,
          "metadata": {},
          "output_type": "execute_result"
        }
      ],
      "source": [
        "class Reshape(nn.Module):\n",
        "  def __init__(self, *args):\n",
        "      super().__init__()\n",
        "      self.shape = args\n",
        "\n",
        "  def forward(self, x):\n",
        "      return x.view(self.shape)\n",
        "\n",
        "class Trim(nn.Module):\n",
        "  def __init__(self, *args):\n",
        "      super().__init__()\n",
        "\n",
        "  def forward(self, x):\n",
        "      return x[:, :, :256, :]\n",
        "\n",
        "\n",
        "\n",
        "class Encoder(nn.Module):\n",
        "  def __init__(self):\n",
        "    super().__init__()\n",
        "\n",
        "    self.encoder = nn.Sequential(\n",
        "        nn.Conv2d(1, 32, stride=(1, 1), kernel_size=(3, 3), padding=1),\n",
        "        nn.LeakyReLU(0.01),\n",
        "        nn.Conv2d(32, 64, stride=(2, 2), kernel_size=(3, 3), padding=1),\n",
        "        nn.LeakyReLU(0.01),\n",
        "        nn.Conv2d(64, 64, stride=(2, 2), kernel_size=(3, 3), padding=1),\n",
        "        nn.Flatten(),\n",
        "        nn.Linear(64*64*1, 2)\n",
        "    )\n",
        "\n",
        "  def forward(self, x):\n",
        "      x = self.encoder(x)\n",
        "      return x\n",
        "    \n",
        "\n",
        "encoder = Encoder()  \n",
        "encoder.to(device)"
      ]
    },
    {
      "cell_type": "code",
      "execution_count": null,
      "metadata": {
        "colab": {
          "base_uri": "https://localhost:8080/"
        },
        "id": "chDiaW3rxVGZ",
        "outputId": "0e39517f-aae3-4537-c750-86734a124dc5"
      },
      "outputs": [
        {
          "data": {
            "text/plain": [
              "Encoder(\n",
              "  (encoder): Sequential(\n",
              "    (0): Conv2d(1, 32, kernel_size=(3, 3), stride=(1, 1), padding=(1, 1))\n",
              "    (1): LeakyReLU(negative_slope=0.01)\n",
              "    (2): Conv2d(32, 64, kernel_size=(3, 3), stride=(2, 2), padding=(1, 1))\n",
              "    (3): LeakyReLU(negative_slope=0.01)\n",
              "    (4): Conv2d(64, 64, kernel_size=(3, 3), stride=(2, 2), padding=(1, 1))\n",
              "    (5): Flatten(start_dim=1, end_dim=-1)\n",
              "    (6): Linear(in_features=4096, out_features=2, bias=True)\n",
              "  )\n",
              ")"
            ]
          },
          "execution_count": 32,
          "metadata": {},
          "output_type": "execute_result"
        }
      ],
      "source": [
        "encoder = torch.load(\"/content/drive/MyDrive/SRC_HW2_E3/Encoder.pth\", map_location=torch.device(device))\n",
        "for param in encoder.parameters():\n",
        "  param.requires_grad = False\n",
        "encoder.eval()\n",
        "encoder.double()"
      ]
    },
    {
      "cell_type": "code",
      "execution_count": null,
      "metadata": {
        "id": "MFmXOYLaCRk_"
      },
      "outputs": [],
      "source": []
    },
    {
      "cell_type": "markdown",
      "metadata": {
        "id": "6jvDcjrW92ap"
      },
      "source": [
        "# Data Preprocessing"
      ]
    },
    {
      "cell_type": "code",
      "execution_count": null,
      "metadata": {
        "colab": {
          "base_uri": "https://localhost:8080/"
        },
        "id": "X1SsyRIC93cg",
        "outputId": "5493a0b8-da99-4485-af65-f5e47ffbcc19"
      },
      "outputs": [
        {
          "name": "stdout",
          "output_type": "stream",
          "text": [
            "File ‘SEMG_DB1.rar’ already there; not retrieving.\n",
            "\n"
          ]
        }
      ],
      "source": [
        "!wget -nc https://archive.ics.uci.edu/ml/machine-learning-databases/00278/SEMG_DB1.rar"
      ]
    },
    {
      "cell_type": "code",
      "execution_count": null,
      "metadata": {
        "colab": {
          "base_uri": "https://localhost:8080/"
        },
        "id": "W9KDd1J6BbXO",
        "outputId": "2eaf488f-85a8-4b28-b7b7-7ccaad2a61dd"
      },
      "outputs": [
        {
          "name": "stdout",
          "output_type": "stream",
          "text": [
            "\n",
            "UNRAR 5.61 beta 1 freeware      Copyright (c) 1993-2018 Alexander Roshal\n",
            "\n",
            "\n",
            "Extracting from SEMG_DB1.rar\n",
            "\n",
            "\n",
            "Would you like to replace the existing file 10Amar.log\n",
            "275168 bytes, modified on 2013-04-27 11:09\n",
            "with a new one\n",
            "275168 bytes, modified on 2013-04-27 11:09\n",
            "\n",
            "[Y]es, [N]o, [A]ll, n[E]ver, [R]ename, [Q]uit E\n",
            "\n",
            "Extracting  10Amar.txt                                                   \b\b\b\b 23%\b\b\b\b 24%\b\b\b\b\b  OK \n",
            "Extracting  10Apie.txt                                                   \b\b\b\b 24%\b\b\b\b 25%\b\b\b\b\b  OK \n",
            "Extracting  10Asen.txt                                                   \b\b\b\b 25%\b\b\b\b 26%\b\b\b\b\b  OK \n",
            "Extracting  11Amar.txt                                                   \b\b\b\b 26%\b\b\b\b 27%\b\b\b\b\b  OK \n",
            "Extracting  11Apie.txt                                                   \b\b\b\b 27%\b\b\b\b 28%\b\b\b\b\b  OK \n",
            "Extracting  11Asen.txt                                                   \b\b\b\b 28%\b\b\b\b 29%\b\b\b\b\b  OK \n",
            "Extracting  1Amar.txt                                                    \b\b\b\b 30%\b\b\b\b\b  OK \n",
            "Extracting  1Apie.txt                                                    \b\b\b\b 30%\b\b\b\b 31%\b\b\b\b\b  OK \n",
            "Extracting  1Asen.txt                                                    \b\b\b\b 31%\b\b\b\b\b  OK \n",
            "Extracting  2Amar.txt                                                    \b\b\b\b 32%\b\b\b\b\b  OK \n",
            "Extracting  2Apie.txt                                                    \b\b\b\b 32%\b\b\b\b 33%\b\b\b\b\b  OK \n",
            "Extracting  2Asen.txt                                                    \b\b\b\b 33%\b\b\b\b\b  OK \n",
            "Extracting  3Amar.txt                                                    \b\b\b\b 34%\b\b\b\b 35%\b\b\b\b 36%\b\b\b\b\b  OK \n",
            "Extracting  3Apie.txt                                                    \b\b\b\b 36%\b\b\b\b 37%\b\b\b\b\b  OK \n",
            "Extracting  3Asen.txt                                                    \b\b\b\b 37%\b\b\b\b 38%\b\b\b\b\b  OK \n",
            "Extracting  4Amar.txt                                                    \b\b\b\b 38%\b\b\b\b 39%\b\b\b\b 40%\b\b\b\b 41%\b\b\b\b\b  OK \n",
            "Extracting  4Apie.txt                                                    \b\b\b\b 42%\b\b\b\b 43%\b\b\b\b\b  OK \n",
            "Extracting  4Asen.txt                                                    \b\b\b\b 43%\b\b\b\b 44%\b\b\b\b 45%\b\b\b\b\b  OK \n",
            "Extracting  5Amar.txt                                                    \b\b\b\b 45%\b\b\b\b 46%\b\b\b\b 47%\b\b\b\b\b  OK \n",
            "Extracting  5Apie.txt                                                    \b\b\b\b 47%\b\b\b\b 48%\b\b\b\b\b  OK \n",
            "Extracting  5Asen.txt                                                    \b\b\b\b 48%\b\b\b\b 49%\b\b\b\b\b  OK \n",
            "Extracting  6Amar.txt                                                    \b\b\b\b 49%\b\b\b\b 50%\b\b\b\b 51%\b\b\b\b 52%\b\b\b\b\b  OK \n",
            "Extracting  6Apie.txt                                                    \b\b\b\b 52%\b\b\b\b 53%\b\b\b\b 54%\b\b\b\b\b  OK \n",
            "Extracting  6Asen.txt                                                    \b\b\b\b 55%\b\b\b\b 56%\b\b\b\b 57%\b\b\b\b 58%\b\b\b\b\b  OK \n",
            "Extracting  7Amar.txt                                                    \b\b\b\b 58%\b\b\b\b 59%\b\b\b\b\b  OK \n",
            "Extracting  7Apie.txt                                                    \b\b\b\b 59%\b\b\b\b 60%\b\b\b\b\b  OK \n",
            "Extracting  7Asen.txt                                                    \b\b\b\b 60%\b\b\b\b\b  OK \n",
            "Extracting  8Amar.txt                                                    \b\b\b\b 61%\b\b\b\b\b  OK \n",
            "Extracting  8Apie.txt                                                    \b\b\b\b 61%\b\b\b\b 62%\b\b\b\b\b  OK \n",
            "Extracting  8Asen.txt                                                    \b\b\b\b 62%\b\b\b\b\b  OK \n",
            "Extracting  9Amar.txt                                                    \b\b\b\b 63%\b\b\b\b 64%\b\b\b\b\b  OK \n",
            "Extracting  9Apie.txt                                                    \b\b\b\b 64%\b\b\b\b 65%\b\b\b\b\b  OK \n",
            "Extracting  9Asen.txt                                                    \b\b\b\b 65%\b\b\b\b 66%\b\b\b\b\b  OK \n",
            "Extracting  10Nmar.txt                                                   \b\b\b\b 77%\b\b\b\b\b  OK \n",
            "Extracting  10Npie.txt                                                   \b\b\b\b 77%\b\b\b\b 78%\b\b\b\b 79%\b\b\b\b\b  OK \n",
            "Extracting  10Nsen.txt                                                   \b\b\b\b 79%\b\b\b\b 80%\b\b\b\b\b  OK \n",
            "Extracting  11Nmar.txt                                                   \b\b\b\b 80%\b\b\b\b\b  OK \n",
            "Extracting  11Npie.txt                                                   \b\b\b\b 81%\b\b\b\b\b  OK \n",
            "Extracting  11Nsen.txt                                                   \b\b\b\b 81%\b\b\b\b 82%\b\b\b\b\b  OK \n",
            "Extracting  1Nmar.txt                                                    \b\b\b\b 82%\b\b\b\b\b  OK \n",
            "Extracting  1Npie.txt                                                    \b\b\b\b 82%\b\b\b\b 83%\b\b\b\b\b  OK \n",
            "Extracting  1Nsen.txt                                                    \b\b\b\b 83%\b\b\b\b\b  OK \n",
            "Extracting  2Nmar.txt                                                    \b\b\b\b 84%\b\b\b\b\b  OK \n",
            "Extracting  2Npie.txt                                                    \b\b\b\b 84%\b\b\b\b 85%\b\b\b\b\b  OK \n",
            "Extracting  2Nsen.txt                                                    \b\b\b\b 85%\b\b\b\b\b  OK \n",
            "Extracting  3Nmar.txt                                                    \b\b\b\b 85%\b\b\b\b 86%\b\b\b\b\b  OK \n",
            "Extracting  3Npie.txt                                                    \b\b\b\b 86%\b\b\b\b\b  OK \n",
            "Extracting  3Nsen.txt                                                    \b\b\b\b 86%\b\b\b\b 87%\b\b\b\b\b  OK \n",
            "Extracting  4Nmar.txt                                                    \b\b\b\b 87%\b\b\b\b\b  OK \n",
            "Extracting  4Npie.txt                                                    \b\b\b\b 87%\b\b\b\b 88%\b\b\b\b\b  OK \n",
            "Extracting  4Nsen.txt                                                    \b\b\b\b 88%\b\b\b\b\b  OK \n",
            "Extracting  5Nmar.txt                                                    \b\b\b\b 89%\b\b\b\b\b  OK \n",
            "Extracting  5Npie.txt                                                    \b\b\b\b 89%\b\b\b\b 90%\b\b\b\b\b  OK \n",
            "Extracting  5Nsen.txt                                                    \b\b\b\b 90%\b\b\b\b\b  OK \n",
            "Extracting  6Nmar.txt                                                    \b\b\b\b 90%\b\b\b\b 91%\b\b\b\b\b  OK \n",
            "Extracting  6Npie.txt                                                    \b\b\b\b 91%\b\b\b\b\b  OK \n",
            "Extracting  6Nsen.txt                                                    \b\b\b\b 92%\b\b\b\b\b  OK \n",
            "Extracting  7Nmar.txt                                                    \b\b\b\b 92%\b\b\b\b 93%\b\b\b\b\b  OK \n",
            "Extracting  7Npie.txt                                                    \b\b\b\b 93%\b\b\b\b\b  OK \n",
            "Extracting  7Nsen.txt                                                    \b\b\b\b 94%\b\b\b\b 95%\b\b\b\b\b  OK \n",
            "Extracting  8Nmar.txt                                                    \b\b\b\b 95%\b\b\b\b\b  OK \n",
            "Extracting  8Npie.txt                                                    \b\b\b\b 95%\b\b\b\b 96%\b\b\b\b\b  OK \n",
            "Extracting  8Nsen.txt                                                    \b\b\b\b 96%\b\b\b\b 97%\b\b\b\b\b  OK \n",
            "Extracting  9Nmar.txt                                                    \b\b\b\b 97%\b\b\b\b\b  OK \n",
            "Extracting  9Npie.txt                                                    \b\b\b\b 98%\b\b\b\b\b  OK \n",
            "Extracting  9Nsen.txt                                                    \b\b\b\b 99%\b\b\b\b\b  OK \n",
            "All OK\n"
          ]
        }
      ],
      "source": [
        "!unrar e  SEMG_DB1.rar"
      ]
    },
    {
      "cell_type": "code",
      "execution_count": null,
      "metadata": {
        "colab": {
          "base_uri": "https://localhost:8080/"
        },
        "id": "Nm2YiWXlBeyj",
        "outputId": "279d9738-9c7d-49f5-c1cc-6152a20fcb7f"
      },
      "outputs": [
        {
          "name": "stdout",
          "output_type": "stream",
          "text": [
            "mkdir: cannot create directory ‘data’: File exists\n",
            "mkdir: cannot create directory ‘data/A’: File exists\n",
            "mkdir: cannot create directory ‘data/N’: File exists\n"
          ]
        }
      ],
      "source": [
        "!mkdir data\n",
        "!mkdir data/A\n",
        "!mkdir data/N\n",
        "!mv [1-9]A*.txt data/A\n",
        "!mv [1-9]N*.txt data/N\n",
        "!mv 1[0-9]A*.txt data/A\n",
        "!mv 1[0-9]N*.txt data/N"
      ]
    },
    {
      "cell_type": "code",
      "execution_count": null,
      "metadata": {
        "id": "vmNtgs9FBix2"
      },
      "outputs": [],
      "source": [
        "def read_folder(path): \n",
        "  folder_con = []\n",
        "  file_name = []\n",
        "  n = 1\n",
        "  for file in os.listdir(path):\n",
        "      if file.endswith(\".txt\"):\n",
        "          file_path = f\"{path}/{file}\"\n",
        "          df = pd.read_csv(file_path, sep='\\t', skiprows=list(range(7)), header=None).dropna()\n",
        "          \n",
        "          if len(df.columns) == 6:\n",
        "            df.drop(columns=df.columns[-2:], axis=1, inplace=True)\n",
        "          if len(df.columns) == 5:\n",
        "            df.drop(columns=df.columns[-1:], axis=1, inplace=True)\n",
        "          \n",
        "          folder_con.append(df)\n",
        "          file_name.append(file_path)\n",
        "          n = n + 1\n",
        "          \n",
        "  return folder_con, file_name"
      ]
    },
    {
      "cell_type": "code",
      "execution_count": null,
      "metadata": {
        "id": "0TDExLUeBn3_"
      },
      "outputs": [],
      "source": [
        "A_folder_con, A_name = read_folder('data/A')\n",
        "N_folder_con, N_name = read_folder('data/N')\n",
        "A_final_data = pd.concat(A_folder_con, ignore_index=True)\n",
        "N_final_data = pd.concat(N_folder_con, ignore_index=True)\n",
        "A_torch_data = torch.tensor(A_final_data.values)\n",
        "N_torch_data = torch.tensor(N_final_data.values)"
      ]
    },
    {
      "cell_type": "code",
      "execution_count": null,
      "metadata": {
        "id": "l6T8C4PpBp1J"
      },
      "outputs": [],
      "source": [
        "def image_creator(data, label, wid_len=256, stride=128):\n",
        "  i = 0\n",
        "  num = 0\n",
        "  img_list = []\n",
        "  while True:\n",
        "    img = data[i: i+wid_len]\n",
        "    i = i + stride\n",
        "    num = num + 1 \n",
        "    new = []\n",
        "    new.append(img.reshape(1, wid_len, 4))\n",
        "    new.append(label)\n",
        "    img_list.append(new)\n",
        "    if num == int(((len(data) - wid_len) / stride + 1)):\n",
        "      break\n",
        "  return img_list\n",
        "  "
      ]
    },
    {
      "cell_type": "code",
      "execution_count": null,
      "metadata": {
        "id": "2cM7eGwpBrsF"
      },
      "outputs": [],
      "source": [
        "N_list = image_creator(N_torch_data, label=0, wid_len=256, stride=128)\n",
        "A_list = image_creator(A_torch_data, label=1, wid_len=256, stride=128)\n",
        "data = A_list + N_list"
      ]
    },
    {
      "cell_type": "code",
      "execution_count": null,
      "metadata": {
        "id": "A6xe87lTBuDy"
      },
      "outputs": [],
      "source": [
        "class MyDataset(Dataset):\n",
        "    def __init__(self, data, transform=None):\n",
        "        self.data_frame = data\n",
        "        self.transform = transform\n",
        "\n",
        "    def __len__(self):\n",
        "        return len(self.data_frame)\n",
        "\n",
        "    def __getitem__(self, idx):\n",
        "        if torch.is_tensor(idx):\n",
        "            idx = idx.tolist()\n",
        "        image = self.data_frame[idx][0]\n",
        "        image = image.double()\n",
        "               \n",
        "        label = self.data_frame[idx][1]\n",
        "        \n",
        "        if self.transform:\n",
        "            image = self.transform(image)\n",
        "\n",
        "        return image, label"
      ]
    },
    {
      "cell_type": "code",
      "execution_count": null,
      "metadata": {
        "id": "xa5Sl_1wBvpC"
      },
      "outputs": [],
      "source": [
        "train, test = train_test_split(data, test_size=0.33, shuffle=True)"
      ]
    },
    {
      "cell_type": "code",
      "execution_count": null,
      "metadata": {
        "id": "adxgrLj_Bx9H"
      },
      "outputs": [],
      "source": [
        "train_dataset = MyDataset(train)\n",
        "test_dataset = MyDataset(test)\n",
        "\n",
        "\n",
        "\n",
        "# Data loader\n",
        "batch_size = 256\n",
        "train_loader = torch.utils.data.DataLoader(dataset=train_dataset,\n",
        "                                           batch_size=batch_size, \n",
        "                                           shuffle=True)\n",
        "\n",
        "\n",
        "test_loader = torch.utils.data.DataLoader(dataset=test_dataset,\n",
        "                                          batch_size=batch_size,\n",
        "                                          shuffle=False)\n"
      ]
    },
    {
      "cell_type": "markdown",
      "metadata": {
        "id": "ocQS-tuKCiMU"
      },
      "source": [
        "# Network Implementation"
      ]
    },
    {
      "cell_type": "code",
      "execution_count": null,
      "metadata": {
        "id": "yDcJVGi1CTno"
      },
      "outputs": [],
      "source": [
        "class Classifier(nn.Module):\n",
        "\n",
        "  def __init__(self):\n",
        "    super(Classifier, self).__init__()\n",
        "\n",
        "    self.layer1 = nn.Sequential(\n",
        "        nn.Linear(2, 2),\n",
        "    )\n",
        "\n",
        "  def forward(self, x):\n",
        "    return self.layer1(x.double())\n",
        "\n",
        "classifier = Classifier()\n",
        "classifier = classifier.double()"
      ]
    },
    {
      "cell_type": "code",
      "execution_count": null,
      "metadata": {
        "id": "9Eq-Z_S6Cma8"
      },
      "outputs": [],
      "source": [
        "criterion = nn.CrossEntropyLoss()\n",
        "optimizer = torch.optim.Adam(classifier.parameters())"
      ]
    },
    {
      "cell_type": "code",
      "execution_count": null,
      "metadata": {
        "id": "niTr5C9pQDYU"
      },
      "outputs": [],
      "source": [
        "def batch_gd(model, encoder, criterion, optimizer, train_loader, test_loader, epochs):\n",
        "  train_losses = np.zeros(epochs)\n",
        "  train_accs = np.zeros(epochs)\n",
        "  test_losses = np.zeros(epochs)\n",
        "  test_accs = np.zeros(epochs)\n",
        "\n",
        "  for it in range(epochs):\n",
        "    n_correct = 0.\n",
        "    n_total = 0.\n",
        "    model.train()\n",
        "    t0 = datetime.now()\n",
        "    train_loss = []\n",
        "    for inputs, targets in train_loader:\n",
        "      inputs, targets = inputs.to(device), targets.to(device)\n",
        "      optimizer.zero_grad()\n",
        "      encoded = encoder(inputs.double())\n",
        "      outputs = model(encoded.double())\n",
        "      loss = criterion(outputs, targets)\n",
        "      loss.backward()\n",
        "      optimizer.step()\n",
        "      train_loss.append(loss.item())\n",
        "      _, predictions = torch.max(outputs, 1)\n",
        "      n_correct += (predictions == targets).sum().item()\n",
        "      n_total += targets.shape[0]\n",
        "\n",
        "    train_acc = n_correct / n_total\n",
        "    train_loss = np.mean(train_loss)\n",
        "\n",
        "    model.eval()\n",
        "    with torch.no_grad():\n",
        "      test_loss = []\n",
        "      n_correct = 0.\n",
        "      n_total = 0.\n",
        "      for inputs, targets in test_loader:\n",
        "        inputs, targets = inputs.to(device), targets.to(device)\n",
        "        encoded = encoder(inputs)\n",
        "        outputs = model(encoded.double())  \n",
        "        loss = criterion(outputs, targets)\n",
        "        test_loss.append(loss.item())\n",
        "        _, predictions = torch.max(outputs, 1)\n",
        "        n_correct += (predictions == targets).sum().item()\n",
        "        n_total += targets.shape[0]\n",
        "\n",
        "      test_loss = np.mean(test_loss)\n",
        "      test_acc = n_correct / n_total\n",
        "\n",
        "      train_losses[it] = train_loss\n",
        "      test_losses[it] = test_loss\n",
        "      train_accs[it] = train_acc\n",
        "      test_accs[it] = test_acc\n",
        "\n",
        "\n",
        "      dt = datetime.now() - t0\n",
        "      print(f\"Epoch {it+1}/{epochs}, Train Loss: {train_loss:.4f}, \\\n",
        "      Test Loss: {test_loss:.4f}, Duration:{dt}\")\n",
        "\n",
        "  return train_losses, test_losses, train_accs, test_accs\n",
        "\n"
      ]
    },
    {
      "cell_type": "code",
      "execution_count": null,
      "metadata": {
        "id": "6TQoLyn9QDrQ"
      },
      "outputs": [],
      "source": []
    },
    {
      "cell_type": "markdown",
      "metadata": {
        "id": "mXwPikP5QGjP"
      },
      "source": [
        "# Model Train and Resualts"
      ]
    },
    {
      "cell_type": "code",
      "execution_count": null,
      "metadata": {
        "colab": {
          "base_uri": "https://localhost:8080/"
        },
        "id": "9vR1H7srQKrl",
        "outputId": "67f2b604-dae4-4283-b6f8-1f978b5596f1"
      },
      "outputs": [
        {
          "name": "stdout",
          "output_type": "stream",
          "text": [
            "Epoch 1/10, Train Loss: 5.2086,       Test Loss: 4.2872, Duration:0:00:19.734172\n",
            "Epoch 2/10, Train Loss: 3.4964,       Test Loss: 2.6234, Duration:0:00:17.680453\n",
            "Epoch 3/10, Train Loss: 1.8865,       Test Loss: 1.1963, Duration:0:00:18.778758\n",
            "Epoch 4/10, Train Loss: 0.8620,       Test Loss: 0.6760, Duration:0:00:18.965080\n",
            "Epoch 5/10, Train Loss: 0.6582,       Test Loss: 0.6535, Duration:0:00:18.128332\n",
            "Epoch 6/10, Train Loss: 0.6526,       Test Loss: 0.6533, Duration:0:00:18.274518\n",
            "Epoch 7/10, Train Loss: 0.6489,       Test Loss: 0.6532, Duration:0:00:20.295306\n",
            "Epoch 8/10, Train Loss: 0.6487,       Test Loss: 0.6533, Duration:0:00:18.316863\n",
            "Epoch 9/10, Train Loss: 0.6544,       Test Loss: 0.6532, Duration:0:00:18.601101\n"
          ]
        }
      ],
      "source": [
        "train_losses, test_losses, train_accs, test_accs = batch_gd(\n",
        "    classifier, encoder, criterion, optimizer, train_loader, test_loader, epochs=10\n",
        ")"
      ]
    },
    {
      "cell_type": "code",
      "execution_count": null,
      "metadata": {
        "id": "DJjNLYRfdfVE"
      },
      "outputs": [],
      "source": [
        "plt.plot(train_losses, label='train loss')\n",
        "plt.plot(test_losses, label='test loss')\n",
        "plt.legend()\n",
        "plt.show()"
      ]
    },
    {
      "cell_type": "code",
      "execution_count": null,
      "metadata": {
        "colab": {
          "background_save": true
        },
        "id": "85lT6sf7eRcs",
        "outputId": "e9ec765e-9fef-4068-bf6c-dd24ae5808c3"
      },
      "outputs": [
        {
          "name": "stdout",
          "output_type": "stream",
          "text": [
            "Train acc: 0.6427, Test acc: 0.6402\n"
          ]
        }
      ],
      "source": [
        "classifier.eval()\n",
        "with torch.no_grad():\n",
        "  n_correct = 0.\n",
        "  n_total = 0.\n",
        "  for inputs, targets in train_loader:\n",
        "    inputs, targets = inputs.to(device), targets.to(device)\n",
        "    encoded = encoder(inputs)\n",
        "    outputs = classifier(encoded)\n",
        "    _, predictions = torch.max(outputs, 1)\n",
        "    n_correct += (predictions == targets).sum().item()\n",
        "    n_total += targets.shape[0]\n",
        "\n",
        "  train_acc = n_correct / n_total\n",
        "\n",
        "  n_correct = 0.\n",
        "  n_total = 0.\n",
        "  for inputs, targets in test_loader:\n",
        "    inputs, targets = inputs.to(device), targets.to(device)\n",
        "    encoded = encoder(inputs)\n",
        "    outputs = classifier(encoded)\n",
        "    _, predictions = torch.max(outputs, 1)\n",
        "    n_correct += (predictions == targets).sum().item()\n",
        "    n_total += targets.shape[0]\n",
        "\n",
        "  test_acc = n_correct / n_total\n",
        "  print(f\"Train acc: {train_acc:.4f}, Test acc: {test_acc:.4f}\")"
      ]
    },
    {
      "cell_type": "code",
      "execution_count": null,
      "metadata": {
        "colab": {
          "background_save": true
        },
        "id": "EVTvrwD1eTae",
        "outputId": "3efe9394-6b28-4c4a-f320-f8f0fc743be3"
      },
      "outputs": [
        {
          "data": {
            "image/png": "[encoded data removed]",
            "text/plain": [
              "<Figure size 640x480 with 1 Axes>"
            ]
          },
          "metadata": {},
          "output_type": "display_data"
        }
      ],
      "source": [
        "plt.plot(train_accs, label='train accuracy')\n",
        "plt.plot(test_accs, label='test accuracy')\n",
        "plt.legend()\n",
        "plt.show()"
      ]
    },
    {
      "cell_type": "code",
      "execution_count": null,
      "metadata": {
        "colab": {
          "background_save": true
        },
        "id": "NzmdO0qteVTw"
      },
      "outputs": [],
      "source": []
    }
  ],
  "metadata": {
    "colab": {
      "provenance": []
    },
    "gpuClass": "standard",
    "kernelspec": {
      "display_name": "Python 3",
      "name": "python3"
    },
    "language_info": {
      "name": "python"
    }
  },
  "nbformat": 4,
  "nbformat_minor": 0
}

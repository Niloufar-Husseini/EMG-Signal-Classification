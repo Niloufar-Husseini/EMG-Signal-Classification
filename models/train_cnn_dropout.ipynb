{
  "cells": [
    {
      "cell_type": "markdown",
      "metadata": {
        "id": "t7aZoHUzGW8y"
      },
      "source": [
        "# Imports"
      ]
    },
    {
      "cell_type": "code",
      "execution_count": 1,
      "metadata": {
        "id": "lpAv0OkPPvxd"
      },
      "outputs": [],
      "source": [
        "import torch\n",
        "import torch.nn as nn\n",
        "import torchvision\n",
        "from torchvision import datasets, transforms, models\n",
        "import numpy as np\n",
        "import matplotlib.pyplot as plt\n",
        "from datetime import datetime\n",
        "import sys, os\n",
        "from glob import glob\n",
        "import imageio\n",
        "import pandas as pd\n",
        "from torch.utils.data import Dataset, DataLoader\n",
        "from sklearn.model_selection import train_test_split\n",
        "import torch.nn.functional as F"
      ]
    },
    {
      "cell_type": "markdown",
      "metadata": {
        "id": "RrALi3ltGN5q"
      },
      "source": [
        "# Data Preprocessing\n"
      ]
    },
    {
      "cell_type": "code",
      "execution_count": 2,
      "metadata": {
        "colab": {
          "base_uri": "https://localhost:8080/"
        },
        "id": "kA9c6FV-P5Dm",
        "outputId": "8cc0cda5-9aa9-4762-d542-c800693754c8"
      },
      "outputs": [
        {
          "name": "stdout",
          "output_type": "stream",
          "text": [
            "--2023-05-05 14:24:06--  https://archive.ics.uci.edu/ml/machine-learning-databases/00278/SEMG_DB1.rar\n",
            "Resolving archive.ics.uci.edu (archive.ics.uci.edu)... 128.195.10.252\n",
            "Connecting to archive.ics.uci.edu (archive.ics.uci.edu)|128.195.10.252|:443... connected.\n",
            "HTTP request sent, awaiting response... 200 OK\n",
            "Length: 14440981 (14M) [application/x-httpd-php]\n",
            "Saving to: ‘SEMG_DB1.rar’\n",
            "\n",
            "SEMG_DB1.rar        100%[===================>]  13.77M  43.4MB/s    in 0.3s    \n",
            "\n",
            "2023-05-05 14:24:06 (43.4 MB/s) - ‘SEMG_DB1.rar’ saved [14440981/14440981]\n",
            "\n"
          ]
        }
      ],
      "source": [
        "!wget -nc https://archive.ics.uci.edu/ml/machine-learning-databases/00278/SEMG_DB1.rar"
      ]
    },
    {
      "cell_type": "code",
      "execution_count": 3,
      "metadata": {
        "colab": {
          "base_uri": "https://localhost:8080/"
        },
        "id": "MvrkmqMJQS_x",
        "outputId": "67ca18c8-92b6-4556-8b31-ea26c09042da"
      },
      "outputs": [
        {
          "name": "stdout",
          "output_type": "stream",
          "text": [
            "\n",
            "UNRAR 5.61 beta 1 freeware      Copyright (c) 1993-2018 Alexander Roshal\n",
            "\n",
            "\n",
            "Extracting from SEMG_DB1.rar\n",
            "\n",
            "Extracting  10Amar.log                                                   \b\b\b\b  0%\b\b\b\b\b  OK \n",
            "Extracting  10Apie.log                                                   \b\b\b\b  0%\b\b\b\b  1%\b\b\b\b\b  OK \n",
            "Extracting  10Asen.log                                                   \b\b\b\b  1%\b\b\b\b\b  OK \n",
            "Extracting  11Amar.log                                                   \b\b\b\b  1%\b\b\b\b  2%\b\b\b\b\b  OK \n",
            "Extracting  11Apie.log                                                   \b\b\b\b  2%\b\b\b\b\b  OK \n",
            "Extracting  11Asen.log                                                   \b\b\b\b  3%\b\b\b\b\b  OK \n",
            "Extracting  1Amar.log                                                    \b\b\b\b  3%\b\b\b\b\b  OK \n",
            "Extracting  1Apie.log                                                    \b\b\b\b  4%\b\b\b\b\b  OK \n",
            "Extracting  1Asen.log                                                    \b\b\b\b  4%\b\b\b\b\b  OK \n",
            "Extracting  2Amar.log                                                    \b\b\b\b  4%\b\b\b\b\b  OK \n",
            "Extracting  2Apie.log                                                    \b\b\b\b  5%\b\b\b\b\b  OK \n",
            "Extracting  2Asen.log                                                    \b\b\b\b  5%\b\b\b\b\b  OK \n",
            "Extracting  3Amar.log                                                    \b\b\b\b  5%\b\b\b\b  6%\b\b\b\b\b  OK \n",
            "Extracting  3Apie.log                                                    \b\b\b\b  7%\b\b\b\b\b  OK \n",
            "Extracting  3Asen.log                                                    \b\b\b\b  7%\b\b\b\b  8%\b\b\b\b\b  OK \n",
            "Extracting  4Amar.log                                                    \b\b\b\b  8%\b\b\b\b  9%\b\b\b\b\b  OK \n",
            "Extracting  4Apie.log                                                    \b\b\b\b 10%\b\b\b\b 11%\b\b\b\b\b  OK \n",
            "Extracting  4Asen.log                                                    \b\b\b\b 11%\b\b\b\b\b  OK \n",
            "Extracting  5Amar.log                                                    \b\b\b\b 12%\b\b\b\b 13%\b\b\b\b\b  OK \n",
            "Extracting  5Apie.log                                                    \b\b\b\b 13%\b\b\b\b\b  OK \n",
            "Extracting  5Asen.log                                                    \b\b\b\b 13%\b\b\b\b 14%\b\b\b\b\b  OK \n",
            "Extracting  6Amar.log                                                    \b\b\b\b 14%\b\b\b\b 15%\b\b\b\b\b  OK \n",
            "Extracting  6Apie.log                                                    \b\b\b\b 16%\b\b\b\b 17%\b\b\b\b\b  OK \n",
            "Extracting  6Asen.log                                                    \b\b\b\b 17%\b\b\b\b 18%\b\b\b\b 19%\b\b\b\b\b  OK \n",
            "Extracting  7Amar.log                                                    \b\b\b\b 19%\b\b\b\b\b  OK \n",
            "Extracting  7Apie.log                                                    \b\b\b\b 19%\b\b\b\b 20%\b\b\b\b\b  OK \n",
            "Extracting  7Asen.log                                                    \b\b\b\b 20%\b\b\b\b\b  OK \n",
            "Extracting  8Amar.log                                                    \b\b\b\b 20%\b\b\b\b\b  OK \n",
            "Extracting  8Apie.log                                                    \b\b\b\b 21%\b\b\b\b\b  OK \n",
            "Extracting  8Asen.log                                                    \b\b\b\b 21%\b\b\b\b\b  OK \n",
            "Extracting  9Amar.log                                                    \b\b\b\b 21%\b\b\b\b 22%\b\b\b\b\b  OK \n",
            "Extracting  9Apie.log                                                    \b\b\b\b 22%\b\b\b\b 23%\b\b\b\b\b  OK \n",
            "Extracting  9Asen.log                                                    \b\b\b\b 23%\b\b\b\b\b  OK \n",
            "Extracting  10Amar.txt                                                   \b\b\b\b 23%\b\b\b\b 24%\b\b\b\b\b  OK \n",
            "Extracting  10Apie.txt                                                   \b\b\b\b 24%\b\b\b\b 25%\b\b\b\b\b  OK \n",
            "Extracting  10Asen.txt                                                   \b\b\b\b 25%\b\b\b\b 26%\b\b\b\b\b  OK \n",
            "Extracting  11Amar.txt                                                   \b\b\b\b 26%\b\b\b\b 27%\b\b\b\b\b  OK \n",
            "Extracting  11Apie.txt                                                   \b\b\b\b 27%\b\b\b\b 28%\b\b\b\b\b  OK \n",
            "Extracting  11Asen.txt                                                   \b\b\b\b 28%\b\b\b\b 29%\b\b\b\b\b  OK \n",
            "Extracting  1Amar.txt                                                    \b\b\b\b 30%\b\b\b\b\b  OK \n",
            "Extracting  1Apie.txt                                                    \b\b\b\b 30%\b\b\b\b 31%\b\b\b\b\b  OK \n",
            "Extracting  1Asen.txt                                                    \b\b\b\b 31%\b\b\b\b\b  OK \n",
            "Extracting  2Amar.txt                                                    \b\b\b\b 32%\b\b\b\b\b  OK \n",
            "Extracting  2Apie.txt                                                    \b\b\b\b 32%\b\b\b\b 33%\b\b\b\b\b  OK \n",
            "Extracting  2Asen.txt                                                    \b\b\b\b 33%\b\b\b\b\b  OK \n",
            "Extracting  3Amar.txt                                                    \b\b\b\b 34%\b\b\b\b 35%\b\b\b\b 36%\b\b\b\b\b  OK \n",
            "Extracting  3Apie.txt                                                    \b\b\b\b 36%\b\b\b\b 37%\b\b\b\b\b  OK \n",
            "Extracting  3Asen.txt                                                    \b\b\b\b 37%\b\b\b\b 38%\b\b\b\b\b  OK \n",
            "Extracting  4Amar.txt                                                    \b\b\b\b 38%\b\b\b\b 39%\b\b\b\b 40%\b\b\b\b 41%\b\b\b\b\b  OK \n",
            "Extracting  4Apie.txt                                                    \b\b\b\b 42%\b\b\b\b 43%\b\b\b\b\b  OK \n",
            "Extracting  4Asen.txt                                                    \b\b\b\b 43%\b\b\b\b 44%\b\b\b\b 45%\b\b\b\b\b  OK \n",
            "Extracting  5Amar.txt                                                    \b\b\b\b 45%\b\b\b\b 46%\b\b\b\b 47%\b\b\b\b\b  OK \n",
            "Extracting  5Apie.txt                                                    \b\b\b\b 47%\b\b\b\b 48%\b\b\b\b\b  OK \n",
            "Extracting  5Asen.txt                                                    \b\b\b\b 48%\b\b\b\b 49%\b\b\b\b\b  OK \n",
            "Extracting  6Amar.txt                                                    \b\b\b\b 49%\b\b\b\b 50%\b\b\b\b 51%\b\b\b\b 52%\b\b\b\b\b  OK \n",
            "Extracting  6Apie.txt                                                    \b\b\b\b 52%\b\b\b\b 53%\b\b\b\b 54%\b\b\b\b\b  OK \n",
            "Extracting  6Asen.txt                                                    \b\b\b\b 55%\b\b\b\b 56%\b\b\b\b 57%\b\b\b\b 58%\b\b\b\b\b  OK \n",
            "Extracting  7Amar.txt                                                    \b\b\b\b 58%\b\b\b\b 59%\b\b\b\b\b  OK \n",
            "Extracting  7Apie.txt                                                    \b\b\b\b 59%\b\b\b\b 60%\b\b\b\b\b  OK \n",
            "Extracting  7Asen.txt                                                    \b\b\b\b 60%\b\b\b\b\b  OK \n",
            "Extracting  8Amar.txt                                                    \b\b\b\b 61%\b\b\b\b\b  OK \n",
            "Extracting  8Apie.txt                                                    \b\b\b\b 61%\b\b\b\b 62%\b\b\b\b\b  OK \n",
            "Extracting  8Asen.txt                                                    \b\b\b\b 62%\b\b\b\b\b  OK \n",
            "Extracting  9Amar.txt                                                    \b\b\b\b 63%\b\b\b\b 64%\b\b\b\b\b  OK \n",
            "Extracting  9Apie.txt                                                    \b\b\b\b 64%\b\b\b\b 65%\b\b\b\b\b  OK \n",
            "Extracting  9Asen.txt                                                    \b\b\b\b 65%\b\b\b\b 66%\b\b\b\b\b  OK \n",
            "Extracting  10Nmar.log                                                   \b\b\b\b 66%\b\b\b\b\b  OK \n",
            "Extracting  10Npie.log                                                   \b\b\b\b 66%\b\b\b\b 67%\b\b\b\b\b  OK \n",
            "Extracting  10Nsen.log                                                   \b\b\b\b 67%\b\b\b\b\b  OK \n",
            "Extracting  11Nmar.log                                                   \b\b\b\b 68%\b\b\b\b\b  OK \n",
            "Extracting  11Npie.log                                                   \b\b\b\b 68%\b\b\b\b\b  OK \n",
            "Extracting  11Nsen.log                                                   \b\b\b\b 68%\b\b\b\b\b  OK \n",
            "Extracting  1Nmar.log                                                    \b\b\b\b 68%\b\b\b\b\b  OK \n",
            "Extracting  1Npie.log                                                    \b\b\b\b 69%\b\b\b\b\b  OK \n",
            "Extracting  1Nsen.log                                                    \b\b\b\b 69%\b\b\b\b\b  OK \n",
            "Extracting  2Nmar.log                                                    \b\b\b\b 69%\b\b\b\b\b  OK \n",
            "Extracting  2Npie.log                                                    \b\b\b\b 70%\b\b\b\b\b  OK \n",
            "Extracting  2Nsen.log                                                    \b\b\b\b 70%\b\b\b\b\b  OK \n",
            "Extracting  3Nmar.log                                                    \b\b\b\b 70%\b\b\b\b\b  OK \n",
            "Extracting  3Npie.log                                                    \b\b\b\b 70%\b\b\b\b\b  OK \n",
            "Extracting  3Nsen.log                                                    \b\b\b\b 71%\b\b\b\b\b  OK \n",
            "Extracting  4Nmar.log                                                    \b\b\b\b 71%\b\b\b\b\b  OK \n",
            "Extracting  4Npie.log                                                    \b\b\b\b 71%\b\b\b\b\b  OK \n",
            "Extracting  4Nsen.log                                                    \b\b\b\b 71%\b\b\b\b 72%\b\b\b\b\b  OK \n",
            "Extracting  5Nmar.log                                                    \b\b\b\b 72%\b\b\b\b\b  OK \n",
            "Extracting  5Npie.log                                                    \b\b\b\b 72%\b\b\b\b\b  OK \n",
            "Extracting  5Nsen.log                                                    \b\b\b\b 72%\b\b\b\b\b  OK \n",
            "Extracting  6Nmar.log                                                    \b\b\b\b 73%\b\b\b\b\b  OK \n",
            "Extracting  6Npie.log                                                    \b\b\b\b 73%\b\b\b\b\b  OK \n",
            "Extracting  6Nsen.log                                                    \b\b\b\b 73%\b\b\b\b\b  OK \n",
            "Extracting  7Nmar.log                                                    \b\b\b\b 74%\b\b\b\b\b  OK \n",
            "Extracting  7Npie.log                                                    \b\b\b\b 74%\b\b\b\b\b  OK \n",
            "Extracting  7Nsen.log                                                    \b\b\b\b 74%\b\b\b\b\b  OK \n",
            "Extracting  8Nmar.log                                                    \b\b\b\b 75%\b\b\b\b\b  OK \n",
            "Extracting  8Npie.log                                                    \b\b\b\b 75%\b\b\b\b\b  OK \n",
            "Extracting  8Nsen.log                                                    \b\b\b\b 75%\b\b\b\b 76%\b\b\b\b\b  OK \n",
            "Extracting  9Nmar.log                                                    \b\b\b\b 76%\b\b\b\b\b  OK \n",
            "Extracting  9Npie.log                                                    \b\b\b\b 76%\b\b\b\b\b  OK \n",
            "Extracting  9Nsen.log                                                    \b\b\b\b 76%\b\b\b\b 77%\b\b\b\b\b  OK \n",
            "Extracting  10Nmar.txt                                                   \b\b\b\b 77%\b\b\b\b\b  OK \n",
            "Extracting  10Npie.txt                                                   \b\b\b\b 77%\b\b\b\b 78%\b\b\b\b 79%\b\b\b\b\b  OK \n",
            "Extracting  10Nsen.txt                                                   \b\b\b\b 79%\b\b\b\b 80%\b\b\b\b\b  OK \n",
            "Extracting  11Nmar.txt                                                   \b\b\b\b 80%\b\b\b\b\b  OK \n",
            "Extracting  11Npie.txt                                                   \b\b\b\b 81%\b\b\b\b\b  OK \n",
            "Extracting  11Nsen.txt                                                   \b\b\b\b 81%\b\b\b\b 82%\b\b\b\b\b  OK \n",
            "Extracting  1Nmar.txt                                                    \b\b\b\b 82%\b\b\b\b\b  OK \n",
            "Extracting  1Npie.txt                                                    \b\b\b\b 82%\b\b\b\b 83%\b\b\b\b\b  OK \n",
            "Extracting  1Nsen.txt                                                    \b\b\b\b 83%\b\b\b\b\b  OK \n",
            "Extracting  2Nmar.txt                                                    \b\b\b\b 84%\b\b\b\b\b  OK \n",
            "Extracting  2Npie.txt                                                    \b\b\b\b 84%\b\b\b\b 85%\b\b\b\b\b  OK \n",
            "Extracting  2Nsen.txt                                                    \b\b\b\b 85%\b\b\b\b\b  OK \n",
            "Extracting  3Nmar.txt                                                    \b\b\b\b 85%\b\b\b\b 86%\b\b\b\b\b  OK \n",
            "Extracting  3Npie.txt                                                    \b\b\b\b 86%\b\b\b\b\b  OK \n",
            "Extracting  3Nsen.txt                                                    \b\b\b\b 86%\b\b\b\b 87%\b\b\b\b\b  OK \n",
            "Extracting  4Nmar.txt                                                    \b\b\b\b 87%\b\b\b\b\b  OK \n",
            "Extracting  4Npie.txt                                                    \b\b\b\b 87%\b\b\b\b 88%\b\b\b\b\b  OK \n",
            "Extracting  4Nsen.txt                                                    \b\b\b\b 88%\b\b\b\b\b  OK \n",
            "Extracting  5Nmar.txt                                                    \b\b\b\b 89%\b\b\b\b\b  OK \n",
            "Extracting  5Npie.txt                                                    \b\b\b\b 89%\b\b\b\b 90%\b\b\b\b\b  OK \n",
            "Extracting  5Nsen.txt                                                    \b\b\b\b 90%\b\b\b\b\b  OK \n",
            "Extracting  6Nmar.txt                                                    \b\b\b\b 90%\b\b\b\b 91%\b\b\b\b\b  OK \n",
            "Extracting  6Npie.txt                                                    \b\b\b\b 91%\b\b\b\b\b  OK \n",
            "Extracting  6Nsen.txt                                                    \b\b\b\b 92%\b\b\b\b\b  OK \n",
            "Extracting  7Nmar.txt                                                    \b\b\b\b 92%\b\b\b\b 93%\b\b\b\b\b  OK \n",
            "Extracting  7Npie.txt                                                    \b\b\b\b 93%\b\b\b\b\b  OK \n",
            "Extracting  7Nsen.txt                                                    \b\b\b\b 94%\b\b\b\b 95%\b\b\b\b\b  OK \n",
            "Extracting  8Nmar.txt                                                    \b\b\b\b 95%\b\b\b\b\b  OK \n",
            "Extracting  8Npie.txt                                                    \b\b\b\b 95%\b\b\b\b 96%\b\b\b\b\b  OK \n",
            "Extracting  8Nsen.txt                                                    \b\b\b\b 96%\b\b\b\b 97%\b\b\b\b\b  OK \n",
            "Extracting  9Nmar.txt                                                    \b\b\b\b 97%\b\b\b\b\b  OK \n",
            "Extracting  9Npie.txt                                                    \b\b\b\b 98%\b\b\b\b\b  OK \n",
            "Extracting  9Nsen.txt                                                    \b\b\b\b 99%\b\b\b\b\b  OK \n",
            "Extracting  Base de datos EMG SP (spanish).docx                          \b\b\b\b 99%\b\b\b\b\b  OK \n",
            "Extracting  Base de datos EMG US (english).docx                          \b\b\b\b 99%\b\b\b\b\b  OK \n",
            "Extracting  BDSEMG_eng.txt                                               \b\b\b\b 99%\b\b\b\b\b  OK \n",
            "All OK\n"
          ]
        }
      ],
      "source": [
        "!unrar e  SEMG_DB1.rar"
      ]
    },
    {
      "cell_type": "code",
      "execution_count": 4,
      "metadata": {
        "id": "bl1unw63VrLx"
      },
      "outputs": [],
      "source": [
        "!mkdir data\n",
        "!mkdir data/A\n",
        "!mkdir data/N\n",
        "!mv [1-9]A*.txt data/A\n",
        "!mv [1-9]N*.txt data/N\n",
        "!mv 1[0-9]A*.txt data/A\n",
        "!mv 1[0-9]N*.txt data/N"
      ]
    },
    {
      "cell_type": "code",
      "execution_count": 5,
      "metadata": {
        "id": "KMozL5n3nqC6"
      },
      "outputs": [],
      "source": [
        "def read_folder(path): \n",
        "  folder_con = []\n",
        "  file_name = []\n",
        "  n = 1\n",
        "  for file in os.listdir(path):\n",
        "      if file.endswith(\".txt\"):\n",
        "          file_path = f\"{path}/{file}\"\n",
        "          df = pd.read_csv(file_path, sep='\\t', skiprows=list(range(7)), header=None).dropna()\n",
        "          \n",
        "          if len(df.columns) == 6:\n",
        "            df.drop(columns=df.columns[-2:], axis=1, inplace=True)\n",
        "          if len(df.columns) == 5:\n",
        "            df.drop(columns=df.columns[-1:], axis=1, inplace=True)\n",
        "          \n",
        "          folder_con.append(df)\n",
        "          file_name.append(file_path)\n",
        "          n = n + 1\n",
        "          \n",
        "  return folder_con, file_name"
      ]
    },
    {
      "cell_type": "code",
      "execution_count": 6,
      "metadata": {
        "id": "LZBrKdECpksh"
      },
      "outputs": [],
      "source": [
        "A_folder_con, A_name = read_folder('data/A')\n",
        "N_folder_con, N_name = read_folder('data/N')\n",
        "A_final_data = pd.concat(A_folder_con, ignore_index=True)\n",
        "N_final_data = pd.concat(N_folder_con, ignore_index=True)\n",
        "A_torch_data = torch.tensor(A_final_data.values)\n",
        "N_torch_data = torch.tensor(N_final_data.values)"
      ]
    },
    {
      "cell_type": "code",
      "execution_count": 7,
      "metadata": {
        "id": "hSTrFIvENhOw"
      },
      "outputs": [],
      "source": [
        "def image_creator(data, label, wid_len=256, stride=128):\n",
        "  i = 0\n",
        "  num = 0\n",
        "  img_list = []\n",
        "  while True:\n",
        "    img = data[i: i+wid_len]\n",
        "    i = i + stride\n",
        "    num = num + 1 \n",
        "    new = []\n",
        "    new.append(img.reshape(1, wid_len, 4))\n",
        "    new.append(label)\n",
        "    img_list.append(new)\n",
        "    if num == int(((len(data) - wid_len) / stride + 1)):\n",
        "      break\n",
        "  return img_list\n",
        "  "
      ]
    },
    {
      "cell_type": "code",
      "execution_count": 8,
      "metadata": {
        "id": "s9E_IUINRcKn"
      },
      "outputs": [],
      "source": [
        "N_list = image_creator(N_torch_data, label=0, wid_len=256, stride=128)\n",
        "A_list = image_creator(A_torch_data, label=1, wid_len=256, stride=128)\n",
        "data = A_list + N_list"
      ]
    },
    {
      "cell_type": "code",
      "execution_count": 9,
      "metadata": {
        "id": "wmpebSREgCXd"
      },
      "outputs": [],
      "source": [
        "class MyDataset(Dataset):\n",
        "    def __init__(self, data, transform=None):\n",
        "        self.data_frame = data\n",
        "        self.transform = transform\n",
        "\n",
        "    def __len__(self):\n",
        "        return len(self.data_frame)\n",
        "\n",
        "    def __getitem__(self, idx):\n",
        "        if torch.is_tensor(idx):\n",
        "            idx = idx.tolist()\n",
        "        image = self.data_frame[idx][0]\n",
        "        label = self.data_frame[idx][1]\n",
        "        \n",
        "        if self.transform:\n",
        "            image = self.transform(image)\n",
        "\n",
        "        return image, label"
      ]
    },
    {
      "cell_type": "code",
      "execution_count": 10,
      "metadata": {
        "colab": {
          "base_uri": "https://localhost:8080/",
          "height": 406
        },
        "id": "xa47o67XgaTl",
        "outputId": "21981f56-8767-4a1d-f503-6e5c4daa33a1"
      },
      "outputs": [
        {
          "data": {
            "image/png": "[encoded data removed]",
            "text/plain": [
              "<Figure size 640x480 with 1 Axes>"
            ]
          },
          "metadata": {},
          "output_type": "display_data"
        }
      ],
      "source": [
        "plt.imshow(data[0][0].squeeze(), cmap=\"gray\")\n",
        "plt.axis(False)\n",
        "plt.show()"
      ]
    },
    {
      "cell_type": "code",
      "execution_count": 11,
      "metadata": {
        "id": "FR3GvcHBjnJJ"
      },
      "outputs": [],
      "source": [
        "train, test = train_test_split(data, test_size=0.33, shuffle=True)"
      ]
    },
    {
      "cell_type": "code",
      "execution_count": 12,
      "metadata": {
        "id": "ienZNdxfkNlg"
      },
      "outputs": [],
      "source": [
        "train_dataset = MyDataset(train)\n",
        "test_dataset = MyDataset(test)\n",
        "\n",
        "\n",
        "# Data loader\n",
        "batch_size = 256\n",
        "train_loader = torch.utils.data.DataLoader(dataset=train_dataset,\n",
        "                                           batch_size=batch_size, \n",
        "                                           shuffle=True)\n",
        "\n",
        "\n",
        "test_loader = torch.utils.data.DataLoader(dataset=test_dataset,\n",
        "                                          batch_size=batch_size,\n",
        "                                          shuffle=False)\n"
      ]
    },
    {
      "cell_type": "markdown",
      "metadata": {
        "id": "HPPqGPCAGnl7"
      },
      "source": [
        "# Network Implementation"
      ]
    },
    {
      "cell_type": "code",
      "execution_count": 13,
      "metadata": {
        "id": "1VIE4ToukbuO"
      },
      "outputs": [],
      "source": [
        "class My_Net(nn.Module):\n",
        "  def __init__(self, K=2):\n",
        "    super(My_Net, self).__init__()\n",
        "\n",
        "    self.conv1 = nn.Sequential(\n",
        "        nn.Conv2d(1, 64, kernel_size=(3, 3), stride=(1, 1), padding='same'),\n",
        "        nn.ReLU(),\n",
        "        nn.MaxPool2d((2, 2), stride=1),\n",
        "        )\n",
        "    self.conv2 = nn.Sequential(\n",
        "        nn.Conv2d(64, 128, kernel_size=(3, 3), stride=(1, 1), padding='same'),\n",
        "        nn.ReLU(),\n",
        "        nn.MaxPool2d((2, 2), stride=(1, 1)),\n",
        "        nn.Dropout2d(p=0.2)\n",
        "    )\n",
        "    self.conv3 = nn.Sequential(\n",
        "        nn.Conv2d(128, 256, kernel_size=(3, 3), stride=(1, 1), padding='same'),\n",
        "        nn.ReLU(),\n",
        "        nn.MaxPool2d((2, 2), stride=(1, 1)),\n",
        "        nn.Dropout2d(p=0.2)\n",
        "    )\n",
        "\n",
        "    \n",
        "    self.fc1 = nn.Sequential(\n",
        "        nn.Linear(256 * 253 * 1, K),\n",
        "        nn.Sigmoid()\n",
        "    )\n",
        "\n",
        "  def forward(self, x):\n",
        "    x = self.conv1(x)\n",
        "    x = self.conv2(x)\n",
        "    x = self.conv3(x)\n",
        "    x = x.view(-1, 256 * 253 * 1)\n",
        "    x = self.fc1(x)\n",
        "    \n",
        "    return x\n",
        "\n",
        "  "
      ]
    },
    {
      "cell_type": "code",
      "execution_count": 14,
      "metadata": {
        "id": "VB3ULj-LwZPF"
      },
      "outputs": [],
      "source": [
        "model = My_Net(K=2)\n"
      ]
    },
    {
      "cell_type": "code",
      "execution_count": 15,
      "metadata": {
        "colab": {
          "base_uri": "https://localhost:8080/"
        },
        "id": "0knNO9lu8IJI",
        "outputId": "3a2be183-8ab7-4048-9900-98fef55ea18d"
      },
      "outputs": [
        {
          "name": "stdout",
          "output_type": "stream",
          "text": [
            "cuda:0\n"
          ]
        },
        {
          "data": {
            "text/plain": [
              "My_Net(\n",
              "  (conv1): Sequential(\n",
              "    (0): Conv2d(1, 64, kernel_size=(3, 3), stride=(1, 1), padding=same)\n",
              "    (1): ReLU()\n",
              "    (2): MaxPool2d(kernel_size=(2, 2), stride=1, padding=0, dilation=1, ceil_mode=False)\n",
              "  )\n",
              "  (conv2): Sequential(\n",
              "    (0): Conv2d(64, 128, kernel_size=(3, 3), stride=(1, 1), padding=same)\n",
              "    (1): ReLU()\n",
              "    (2): MaxPool2d(kernel_size=(2, 2), stride=(1, 1), padding=0, dilation=1, ceil_mode=False)\n",
              "    (3): Dropout2d(p=0.2, inplace=False)\n",
              "  )\n",
              "  (conv3): Sequential(\n",
              "    (0): Conv2d(128, 256, kernel_size=(3, 3), stride=(1, 1), padding=same)\n",
              "    (1): ReLU()\n",
              "    (2): MaxPool2d(kernel_size=(2, 2), stride=(1, 1), padding=0, dilation=1, ceil_mode=False)\n",
              "    (3): Dropout2d(p=0.2, inplace=False)\n",
              "  )\n",
              "  (fc1): Sequential(\n",
              "    (0): Linear(in_features=64768, out_features=2, bias=True)\n",
              "    (1): Sigmoid()\n",
              "  )\n",
              ")"
            ]
          },
          "execution_count": 15,
          "metadata": {},
          "output_type": "execute_result"
        }
      ],
      "source": [
        "device = torch.device(\"cuda:0\" if torch.cuda.is_available() else \"cpu\")\n",
        "print(device)\n",
        "model.to(device)"
      ]
    },
    {
      "cell_type": "code",
      "execution_count": 16,
      "metadata": {
        "colab": {
          "base_uri": "https://localhost:8080/"
        },
        "id": "AAHObwLxmoDL",
        "outputId": "a8810da8-9458-41b4-a3cc-8732853005ef"
      },
      "outputs": [
        {
          "name": "stdout",
          "output_type": "stream",
          "text": [
            "----------------------------------------------------------------\n",
            "        Layer (type)               Output Shape         Param #\n",
            "================================================================\n",
            "            Conv2d-1           [-1, 64, 256, 4]             640\n",
            "              ReLU-2           [-1, 64, 256, 4]               0\n",
            "         MaxPool2d-3           [-1, 64, 255, 3]               0\n",
            "            Conv2d-4          [-1, 128, 255, 3]          73,856\n",
            "              ReLU-5          [-1, 128, 255, 3]               0\n",
            "         MaxPool2d-6          [-1, 128, 254, 2]               0\n",
            "         Dropout2d-7          [-1, 128, 254, 2]               0\n",
            "            Conv2d-8          [-1, 256, 254, 2]         295,168\n",
            "              ReLU-9          [-1, 256, 254, 2]               0\n",
            "        MaxPool2d-10          [-1, 256, 253, 1]               0\n",
            "        Dropout2d-11          [-1, 256, 253, 1]               0\n",
            "           Linear-12                    [-1, 2]         129,538\n",
            "          Sigmoid-13                    [-1, 2]               0\n",
            "================================================================\n",
            "Total params: 499,202\n",
            "Trainable params: 499,202\n",
            "Non-trainable params: 0\n",
            "----------------------------------------------------------------\n",
            "Input size (MB): 0.00\n",
            "Forward/backward pass size (MB): 6.83\n",
            "Params size (MB): 1.90\n",
            "Estimated Total Size (MB): 8.74\n",
            "----------------------------------------------------------------\n"
          ]
        }
      ],
      "source": [
        "from torchsummary import summary\n",
        "summary(model, (1, 256, 4))"
      ]
    },
    {
      "cell_type": "code",
      "execution_count": 17,
      "metadata": {
        "colab": {
          "base_uri": "https://localhost:8080/"
        },
        "id": "hhx95Cmxn74n",
        "outputId": "a617cc63-ab51-4d5d-b620-7d0e9820fa5d"
      },
      "outputs": [
        {
          "data": {
            "text/plain": [
              "My_Net(\n",
              "  (conv1): Sequential(\n",
              "    (0): Conv2d(1, 64, kernel_size=(3, 3), stride=(1, 1), padding=same)\n",
              "    (1): ReLU()\n",
              "    (2): MaxPool2d(kernel_size=(2, 2), stride=1, padding=0, dilation=1, ceil_mode=False)\n",
              "  )\n",
              "  (conv2): Sequential(\n",
              "    (0): Conv2d(64, 128, kernel_size=(3, 3), stride=(1, 1), padding=same)\n",
              "    (1): ReLU()\n",
              "    (2): MaxPool2d(kernel_size=(2, 2), stride=(1, 1), padding=0, dilation=1, ceil_mode=False)\n",
              "    (3): Dropout2d(p=0.2, inplace=False)\n",
              "  )\n",
              "  (conv3): Sequential(\n",
              "    (0): Conv2d(128, 256, kernel_size=(3, 3), stride=(1, 1), padding=same)\n",
              "    (1): ReLU()\n",
              "    (2): MaxPool2d(kernel_size=(2, 2), stride=(1, 1), padding=0, dilation=1, ceil_mode=False)\n",
              "    (3): Dropout2d(p=0.2, inplace=False)\n",
              "  )\n",
              "  (fc1): Sequential(\n",
              "    (0): Linear(in_features=64768, out_features=2, bias=True)\n",
              "    (1): Sigmoid()\n",
              "  )\n",
              ")"
            ]
          },
          "execution_count": 17,
          "metadata": {},
          "output_type": "execute_result"
        }
      ],
      "source": [
        "model.double()"
      ]
    },
    {
      "cell_type": "code",
      "execution_count": 18,
      "metadata": {
        "id": "q582v8638OEN"
      },
      "outputs": [],
      "source": [
        "criterion = nn.CrossEntropyLoss()\n",
        "optimizer = torch.optim.Adam(model.parameters())"
      ]
    },
    {
      "cell_type": "code",
      "execution_count": 19,
      "metadata": {
        "id": "CW1HQqge8Q0s"
      },
      "outputs": [],
      "source": [
        "def batch_gd(model, criterion, optimizer, train_loader, test_loader, epochs):\n",
        "  train_losses = np.zeros(epochs)\n",
        "  train_accs = np.zeros(epochs)\n",
        "  test_losses = np.zeros(epochs)\n",
        "  test_accs = np.zeros(epochs)\n",
        "\n",
        "  for it in range(epochs):\n",
        "    n_correct = 0.\n",
        "    n_total = 0.\n",
        "    model.train()\n",
        "    t0 = datetime.now()\n",
        "    train_loss = []\n",
        "    for inputs, targets in train_loader:\n",
        "      inputs, targets = inputs.to(device), targets.to(device)\n",
        "      optimizer.zero_grad()\n",
        "      outputs = model(inputs)\n",
        "      loss = criterion(outputs, targets)\n",
        "      loss.backward()\n",
        "      optimizer.step()\n",
        "      train_loss.append(loss.item())\n",
        "      _, predictions = torch.max(outputs, 1)\n",
        "      n_correct += (predictions == targets).sum().item()\n",
        "      n_total += targets.shape[0]\n",
        "\n",
        "    train_acc = n_correct / n_total\n",
        "    train_loss = np.mean(train_loss)\n",
        "\n",
        "    model.eval()\n",
        "    with torch.no_grad():\n",
        "      test_loss = []\n",
        "      n_correct = 0.\n",
        "      n_total = 0.\n",
        "      for inputs, targets in test_loader:\n",
        "        inputs, targets = inputs.to(device), targets.to(device)\n",
        "        outputs = model(inputs)\n",
        "        loss = criterion(outputs, targets)\n",
        "        test_loss.append(loss.item())\n",
        "        _, predictions = torch.max(outputs, 1)\n",
        "        n_correct += (predictions == targets).sum().item()\n",
        "        n_total += targets.shape[0]\n",
        "\n",
        "      test_loss = np.mean(test_loss)\n",
        "      test_acc = n_correct / n_total\n",
        "\n",
        "      train_losses[it] = train_loss\n",
        "      test_losses[it] = test_loss\n",
        "      train_accs[it] = train_acc\n",
        "      test_accs[it] = test_acc\n",
        "\n",
        "\n",
        "      dt = datetime.now() - t0\n",
        "      print(f\"Epoch {it+1}/{epochs}, Train Loss: {train_loss:.4f}, \\\n",
        "      Test Loss: {test_loss:.4f}, Duration:{dt}\")\n",
        "\n",
        "  return train_losses, test_losses, train_accs, test_accs\n",
        "\n"
      ]
    },
    {
      "cell_type": "markdown",
      "metadata": {
        "id": "paH6yS4rGyWD"
      },
      "source": [
        "# Model Train and Resualts"
      ]
    },
    {
      "cell_type": "code",
      "execution_count": 20,
      "metadata": {
        "colab": {
          "base_uri": "https://localhost:8080/"
        },
        "id": "W1fwuGBB8WKP",
        "outputId": "a2e161e6-33d4-45e9-8c1d-7199a5cda9d2"
      },
      "outputs": [
        {
          "name": "stdout",
          "output_type": "stream",
          "text": [
            "Epoch 1/10, Train Loss: 0.6423,       Test Loss: 0.6358, Duration:0:01:09.482619\n",
            "Epoch 2/10, Train Loss: 0.6306,       Test Loss: 0.6373, Duration:0:01:09.544318\n",
            "Epoch 3/10, Train Loss: 0.6299,       Test Loss: 0.6316, Duration:0:01:09.392356\n",
            "Epoch 4/10, Train Loss: 0.6216,       Test Loss: 0.6329, Duration:0:01:09.314260\n",
            "Epoch 5/10, Train Loss: 0.6117,       Test Loss: 0.6275, Duration:0:01:09.251264\n",
            "Epoch 6/10, Train Loss: 0.6165,       Test Loss: 0.6283, Duration:0:01:09.233489\n",
            "Epoch 7/10, Train Loss: 0.6115,       Test Loss: 0.6179, Duration:0:01:09.275077\n",
            "Epoch 8/10, Train Loss: 0.6033,       Test Loss: 0.6021, Duration:0:01:09.235568\n",
            "Epoch 9/10, Train Loss: 0.5919,       Test Loss: 0.5941, Duration:0:01:09.229018\n",
            "Epoch 10/10, Train Loss: 0.5845,       Test Loss: 0.5897, Duration:0:01:09.221550\n"
          ]
        }
      ],
      "source": [
        "train_losses, test_losses, train_accs, test_accs = batch_gd(\n",
        "    model, criterion, optimizer, train_loader, test_loader, epochs=10\n",
        ")"
      ]
    },
    {
      "cell_type": "code",
      "execution_count": 21,
      "metadata": {
        "colab": {
          "base_uri": "https://localhost:8080/",
          "height": 430
        },
        "id": "-14DxSsqDooL",
        "outputId": "d62a5b04-b99e-4398-b8e3-83fbd203592c"
      },
      "outputs": [
        {
          "data": {
            "image/png": "[encoded data removed]",
            "text/plain": [
              "<Figure size 640x480 with 1 Axes>"
            ]
          },
          "metadata": {},
          "output_type": "display_data"
        }
      ],
      "source": [
        "plt.plot(train_losses, label='train loss')\n",
        "plt.plot(test_losses, label='test loss')\n",
        "plt.legend()\n",
        "plt.show()"
      ]
    },
    {
      "cell_type": "code",
      "execution_count": 22,
      "metadata": {
        "colab": {
          "base_uri": "https://localhost:8080/"
        },
        "id": "y7rT0F9TRklj",
        "outputId": "8f5f1b85-45ea-42f8-df64-d1c61c5d0b0c"
      },
      "outputs": [
        {
          "name": "stdout",
          "output_type": "stream",
          "text": [
            "Train acc: 0.7040, Test acc: 0.6961\n"
          ]
        }
      ],
      "source": [
        "model.eval()\n",
        "with torch.no_grad():\n",
        "  n_correct = 0.\n",
        "  n_total = 0.\n",
        "  for inputs, targets in train_loader:\n",
        "    inputs, targets = inputs.to(device), targets.to(device)\n",
        "    outputs = model(inputs)\n",
        "    _, predictions = torch.max(outputs, 1)\n",
        "    n_correct += (predictions == targets).sum().item()\n",
        "    n_total += targets.shape[0]\n",
        "\n",
        "  train_acc = n_correct / n_total\n",
        "\n",
        "  n_correct = 0.\n",
        "  n_total = 0.\n",
        "  for inputs, targets in test_loader:\n",
        "    inputs, targets = inputs.to(device), targets.to(device)\n",
        "    outputs = model(inputs)\n",
        "    _, predictions = torch.max(outputs, 1)\n",
        "    n_correct += (predictions == targets).sum().item()\n",
        "    n_total += targets.shape[0]\n",
        "\n",
        "  test_acc = n_correct / n_total\n",
        "  print(f\"Train acc: {train_acc:.4f}, Test acc: {test_acc:.4f}\")"
      ]
    },
    {
      "cell_type": "code",
      "execution_count": 23,
      "metadata": {
        "colab": {
          "base_uri": "https://localhost:8080/",
          "height": 430
        },
        "id": "BFPj0SweRmjB",
        "outputId": "1976109b-60f1-4cfa-dcb4-452b4855409e"
      },
      "outputs": [
        {
          "data": {
            "image/png": "[encoded data removed]",
            "text/plain": [
              "<Figure size 640x480 with 1 Axes>"
            ]
          },
          "metadata": {},
          "output_type": "display_data"
        }
      ],
      "source": [
        "plt.plot(train_accs, label='train accuracy')\n",
        "plt.plot(test_accs, label='test accuracy')\n",
        "plt.legend()\n",
        "plt.show()"
      ]
    }
  ],
  "metadata": {
    "accelerator": "GPU",
    "colab": {
      "gpuType": "T4",
      "provenance": []
    },
    "gpuClass": "standard",
    "kernelspec": {
      "display_name": "Python 3",
      "name": "python3"
    },
    "language_info": {
      "name": "python"
    }
  },
  "nbformat": 4,
  "nbformat_minor": 0
}
